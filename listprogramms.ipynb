{
 "cells": [
  {
   "cell_type": "code",
   "execution_count": 2,
   "metadata": {},
   "outputs": [
    {
     "name": "stdout",
     "output_type": "stream",
     "text": [
      "not empty list\n"
     ]
    }
   ],
   "source": [
    "#empty list or not\n",
    "l=[4,56,5]\n",
    "c=0\n",
    "for i in l:\n",
    "    c+=1\n",
    "if c==0:\n",
    "    print(\"empty list\")\n",
    "else:\n",
    "    print('not empty list')"
   ]
  },
  {
   "cell_type": "code",
   "execution_count": 6,
   "metadata": {},
   "outputs": [
    {
     "name": "stdout",
     "output_type": "stream",
     "text": [
      "[1]\n",
      "[1, 2]\n",
      "[1, 2, 4]\n"
     ]
    }
   ],
   "source": [
    "#clone the list\n",
    "l=[1,2,4]\n",
    "l1=[]\n",
    "for i in l:\n",
    "    l1=l1+[i]\n",
    "print(l1)"
   ]
  },
  {
   "cell_type": "code",
   "execution_count": 13,
   "metadata": {},
   "outputs": [
    {
     "name": "stdout",
     "output_type": "stream",
     "text": [
      "63 2\n"
     ]
    }
   ],
   "source": [
    "#large and small number in list\n",
    "l=[22,2,37,63]\n",
    "lar=0\n",
    "sma=l[0]\n",
    "for i in l:\n",
    "    if i>lar:\n",
    "        lar=i\n",
    "    if i<sma:\n",
    "        sma=i\n",
    "print(lar,sma)"
   ]
  },
  {
   "cell_type": "code",
   "execution_count": 16,
   "metadata": {},
   "outputs": [
    {
     "name": "stdout",
     "output_type": "stream",
     "text": [
      "[1, 7, 9]\n"
     ]
    }
   ],
   "source": [
    "#print odd numbers of the list inside the same list\n",
    "l=[1,2,4,7,9]\n",
    "l1=[]\n",
    "for i in l:\n",
    "    if i%2!=0:\n",
    "        l1=l1+[i]\n",
    "print(l1)\n",
    "        "
   ]
  },
  {
   "cell_type": "code",
   "execution_count": 17,
   "metadata": {},
   "outputs": [
    {
     "name": "stdout",
     "output_type": "stream",
     "text": [
      "[9, 7, 4, 4, 2, 1]\n"
     ]
    }
   ],
   "source": [
    "#reverse the list\n",
    "l=[1,2,4,4,7,9]\n",
    "l1=[]\n",
    "for i in l[::-1]:\n",
    "    l1=l1+[i]\n",
    "l=l1\n",
    "print(l)\n",
    "    "
   ]
  },
  {
   "cell_type": "code",
   "execution_count": 8,
   "metadata": {},
   "outputs": [
    {
     "name": "stdout",
     "output_type": "stream",
     "text": [
      "1\n"
     ]
    }
   ],
   "source": [
    "#find the smallest number in the list\n",
    "l=[1,2,3,4,5,6,7,8,9]\n",
    "sm=l[0]\n",
    "for i in l:\n",
    "    if i<sm:\n",
    "        sm=i\n",
    "print(sm)"
   ]
  },
  {
   "cell_type": "code",
   "execution_count": 23,
   "metadata": {},
   "outputs": [
    {
     "name": "stdout",
     "output_type": "stream",
     "text": [
      "10\n"
     ]
    }
   ],
   "source": [
    "#find the sum of elements in the list\n",
    "l=[1,2,3,4]\n",
    "sum=0\n",
    "for i in l:\n",
    "    sum+=i\n",
    "print(sum)"
   ]
  },
  {
   "cell_type": "code",
   "execution_count": 11,
   "metadata": {},
   "outputs": [
    {
     "name": "stdout",
     "output_type": "stream",
     "text": [
      "12 4\n"
     ]
    }
   ],
   "source": [
    "#sum of even and odd numbers in the list\n",
    "l=[8,4,1,3]\n",
    "eve=0\n",
    "odd=0\n",
    "for i in l:\n",
    "    if i%2==0:\n",
    "        eve+=i\n",
    "    else:\n",
    "        odd+=i\n",
    "print(eve,odd)"
   ]
  },
  {
   "cell_type": "code",
   "execution_count": 12,
   "metadata": {},
   "outputs": [
    {
     "name": "stdout",
     "output_type": "stream",
     "text": [
      "[1, 3, 4, 8]\n"
     ]
    }
   ],
   "source": [
    "#Python program to Sort Elements in Ascending Order\n",
    "l=[8,4,1,3]\n",
    "for i in range(len(l)):\n",
    "    for j in range(i+1,len(l)):\n",
    "        if l[i]>l[j]:\n",
    "            l[i],l[j]=l[j],l[i]\n",
    "print(l)\n",
    "\n"
   ]
  },
  {
   "cell_type": "code",
   "execution_count": 22,
   "metadata": {},
   "outputs": [
    {
     "name": "stdout",
     "output_type": "stream",
     "text": [
      "4\n"
     ]
    }
   ],
   "source": [
    "# program to Print Second Largest Number in a List USE for or while loop\n",
    "l=[8,4,1,3]\n",
    "for i in range(len(l)):\n",
    "    for j in range(i+1,len(l)):\n",
    "        if l[i]>l[j]:\n",
    "            l[i],l[j]=l[j],l[i]\n",
    "print(l[-2])\n"
   ]
  },
  {
   "cell_type": "code",
   "execution_count": 11,
   "metadata": {},
   "outputs": [
    {
     "name": "stdout",
     "output_type": "stream",
     "text": [
      "[2, 3, 5]\n"
     ]
    }
   ],
   "source": [
    "l=[1,2,3,4,5]\n",
    "l1=[]\n",
    "for i in l:\n",
    "    num=i\n",
    "    c=0\n",
    "    j=1\n",
    "    while j<=num:\n",
    "        if (num%j==0):\n",
    "            c+=1\n",
    "        j+=1\n",
    "    if c==2:\n",
    "        l1=l1+[i]\n",
    "print(l1)"
   ]
  },
  {
   "cell_type": "code",
   "execution_count": 30,
   "metadata": {},
   "outputs": [
    {
     "name": "stdout",
     "output_type": "stream",
     "text": [
      "9\n",
      "8\n",
      "8\n"
     ]
    }
   ],
   "source": [
    "l=['PYspiders@12','JsPiDers@123',\"QsPIderS@1234\"]\n",
    "for i in l:\n",
    "    st=i\n",
    "    c=0\n",
    "    j=0\n",
    "    while j<len(st):\n",
    "        if (st[j]>=\"A\" and st[j]<=\"Z\") or (st[j]>='a' and st[j]<='z'):\n",
    "            c+=1\n",
    "        j+=1    \n",
    "    print(c)\n",
    "\n",
    "sss\n"
   ]
  },
  {
   "cell_type": "code",
   "execution_count": 33,
   "metadata": {},
   "outputs": [
    {
     "name": "stdout",
     "output_type": "stream",
     "text": [
      "2\n",
      "3\n",
      "4\n"
     ]
    }
   ],
   "source": [
    "l=['PYspiders@12','JsPiDers@123',\"QsPIderS@1234\"]\n",
    "for i in l:\n",
    "    st=i\n",
    "    c=0\n",
    "    j=0\n",
    "    while j<len(st):\n",
    "        if (st[j]>=\"0\" and st[j]<=\"9\"):\n",
    "            c+=1\n",
    "        j+=1\n",
    "    print(c)"
   ]
  },
  {
   "cell_type": "code",
   "execution_count": 35,
   "metadata": {},
   "outputs": [
    {
     "name": "stdout",
     "output_type": "stream",
     "text": [
      "2\n",
      "2\n",
      "2\n"
     ]
    }
   ],
   "source": [
    "l=['PYspiders@12','JsPiDers@123',\"QsPIderS@1234\"]\n",
    "for i in l:\n",
    "    st=i\n",
    "    c=0\n",
    "    j=0\n",
    "    while j<len(st):\n",
    "        if st[j] in 'AEIOUaeiou':\n",
    "            c+=1\n",
    "        j+=1\n",
    "    print(c)"
   ]
  },
  {
   "cell_type": "code",
   "execution_count": 36,
   "metadata": {},
   "outputs": [
    {
     "name": "stdout",
     "output_type": "stream",
     "text": [
      "2\n",
      "3\n",
      "4\n"
     ]
    }
   ],
   "source": [
    "l=['PYspiders@12','JsPiDers@123',\"QsPIderS@1234\"]\n",
    "for i in l:\n",
    "    st=i\n",
    "    c=0\n",
    "    j=0\n",
    "    while j<len(st):\n",
    "        if st[j]>=\"A\" and st[j]<=\"Z\":\n",
    "            c+=1\n",
    "        j+=1\n",
    "    print(c)"
   ]
  },
  {
   "cell_type": "code",
   "execution_count": 31,
   "metadata": {},
   "outputs": [
    {
     "name": "stdout",
     "output_type": "stream",
     "text": [
      "2 9 2 2\n",
      "3 8 2 3\n",
      "4 8 2 4\n"
     ]
    }
   ],
   "source": [
    "l=['PYspiders@12','JsPiDers@123',\"QsPIderS@1234\"]\n",
    "for i in l:\n",
    "    st=i\n",
    "    c=0\n",
    "    j=0\n",
    "    c2=0\n",
    "    c3=0\n",
    "    c1=0\n",
    "    while j<len(st):\n",
    "        if st[j]>=\"A\" and st[j]<=\"Z\":\n",
    "            c+=1\n",
    "        if (st[j]>=\"A\" and st[j]<=\"Z\") or (st[j]>='a' and st[j]<='z'):\n",
    "            c1+=1\n",
    "        if st[j] in 'AEIOUaeiou':\n",
    "            c2+=1\n",
    "        if (st[j]>=\"0\" and st[j]<=\"9\"):\n",
    "            c3+=1\n",
    "        j+=1\n",
    "    print(c,c1,c2,c3)\n",
    "\n",
    "    \n",
    "    "
   ]
  },
  {
   "cell_type": "code",
   "execution_count": 44,
   "metadata": {},
   "outputs": [
    {
     "name": "stdout",
     "output_type": "stream",
     "text": [
      "['abcd', 'xyz', 'ab@123', 'a', 'ab', 'abc', 'abcd', 'x', 'xy', 'xyz', 'a', 'ab', 'ab@', 'ab@1', 'ab@12', 'ab@123']\n"
     ]
    }
   ],
   "source": [
    "l=['abcd','xyz','ab@123']\n",
    "for i in l:\n",
    "    st=i\n",
    "    res=''\n",
    "    for j in st:\n",
    "        res=res+j\n",
    "        st=res\n",
    "        l=l+[st]\n",
    "print(l)\n",
    "\n",
    "        "
   ]
  },
  {
   "cell_type": "code",
   "execution_count": 57,
   "metadata": {},
   "outputs": [
    {
     "name": "stdout",
     "output_type": "stream",
     "text": [
      "['dcba', 'zyx', '321@ba']\n"
     ]
    }
   ],
   "source": [
    "l=['abcd','xyz','ab@123']\n",
    "l1=[]\n",
    "#'dcba','zyx','321@ba'\n",
    "for i in l:\n",
    "    st=i\n",
    "    res=''\n",
    "    a=len(st)-1\n",
    "    while a>=0:\n",
    "        res=res+st[a]\n",
    "        a-=1\n",
    "    l1=l1+[res]\n",
    "l=l1\n",
    "print(l)\n",
    "\n",
    "\n"
   ]
  },
  {
   "cell_type": "code",
   "execution_count": 58,
   "metadata": {},
   "outputs": [
    {
     "name": "stdout",
     "output_type": "stream",
     "text": [
      "['dcba', 'zyx', '321@ba']\n"
     ]
    }
   ],
   "source": [
    "l=['abcd','xyz','ab@123']\n",
    "i=0\n",
    "while i<len(l):\n",
    "    st=l[i]\n",
    "    res=''\n",
    "    a=len(st)-1\n",
    "    while a>=0:\n",
    "        res=res+st[a]\n",
    "        a-=1\n",
    "    l[i]=res\n",
    "    i+=1\n",
    "print(l)"
   ]
  },
  {
   "cell_type": "code",
   "execution_count": 11,
   "metadata": {},
   "outputs": [
    {
     "ename": "TypeError",
     "evalue": "'in <string>' requires string as left operand, not int",
     "output_type": "error",
     "traceback": [
      "\u001b[1;31m---------------------------------------------------------------------------\u001b[0m",
      "\u001b[1;31mTypeError\u001b[0m                                 Traceback (most recent call last)",
      "Cell \u001b[1;32mIn[11], line 5\u001b[0m\n\u001b[0;32m      3\u001b[0m \u001b[38;5;28;01mfor\u001b[39;00m i \u001b[38;5;129;01min\u001b[39;00m st:\n\u001b[0;32m      4\u001b[0m     st\u001b[38;5;241m=\u001b[39mi\n\u001b[1;32m----> 5\u001b[0m     \u001b[38;5;28;01mif\u001b[39;00m i \u001b[38;5;129;01mand\u001b[39;00m \u001b[38;5;28;43mord\u001b[39;49m\u001b[43m(\u001b[49m\u001b[43mi\u001b[49m\u001b[43m)\u001b[49m\u001b[38;5;241;43m+\u001b[39;49m\u001b[38;5;241;43m1\u001b[39;49m\u001b[43m \u001b[49m\u001b[38;5;129;43;01min\u001b[39;49;00m\u001b[43m \u001b[49m\u001b[38;5;124;43m'\u001b[39;49m\u001b[38;5;124;43mABC\u001b[39;49m\u001b[38;5;124;43m'\u001b[39;49m:\n\u001b[0;32m      6\u001b[0m         l\u001b[38;5;241m=\u001b[39ml\u001b[38;5;241m+\u001b[39m[st]        \n\u001b[0;32m      7\u001b[0m \u001b[38;5;28mprint\u001b[39m(l)\n",
      "\u001b[1;31mTypeError\u001b[0m: 'in <string>' requires string as left operand, not int"
     ]
    }
   ],
   "source": [
    "st='ABCDEFGIJKABC'\n",
    "l=[]\n",
    "for i in st:\n",
    "    st=i\n",
    "    if i and ord(i)+1 in 'ABC':\n",
    "        l=l+[st]        \n",
    "print(l)\n"
   ]
  },
  {
   "cell_type": "code",
   "execution_count": 5,
   "metadata": {},
   "outputs": [
    {
     "name": "stdout",
     "output_type": "stream",
     "text": [
      "17\n"
     ]
    }
   ],
   "source": [
    "#sum of prime elements in given list\n",
    "l=[1,2,3,4,5,6,7,8,9]\n",
    "su=0\n",
    "for i in l:\n",
    "    if i>1:\n",
    "        for j in range(2,i):\n",
    "            if i%j==0:\n",
    "                break\n",
    "        else:\n",
    "            su=su+i\n",
    "print(su)\n",
    "            "
   ]
  },
  {
   "cell_type": "code",
   "execution_count": 15,
   "metadata": {},
   "outputs": [
    {
     "name": "stdout",
     "output_type": "stream",
     "text": [
      "6 6 perfect number\n"
     ]
    }
   ],
   "source": [
    "l=[1,2,3,4,5,6]\n",
    "for i in l:\n",
    "    su=0\n",
    "    j=1\n",
    "    while j<i:\n",
    "        if i%j==0:\n",
    "            su=su+j\n",
    "        j+=1\n",
    "    if su==i:\n",
    "        print(i,su,\"perfect number\")\n",
    "        \n",
    "        "
   ]
  },
  {
   "cell_type": "code",
   "execution_count": 4,
   "metadata": {},
   "outputs": [
    {
     "name": "stdout",
     "output_type": "stream",
     "text": [
      "[1, 2, 5, 'hi', (4+10j), 'GOOD', 'JL', 'VE', 'NICE', 1, 2, 3]\n",
      "[1, 2, 5, 'hi', (4+10j), 'GOOD', 'JL', 'VE', 'NICE', 1, 2, 3]\n"
     ]
    }
   ],
   "source": [
    "#l=[1, 2, 5,4+10j,1,2,3]\n",
    "#l1=[\"GOOD\",'JL',\"VE\", \"NICE\",\"hi\"]\n",
    "l=[1, 2, 5, \"hi\",4+10j]\n",
    "l1=[\"GOOD\",'JL',\"VE\", \"NICE\",1,2,3]\n",
    "\n",
    "\n"
   ]
  }
 ],
 "metadata": {
  "kernelspec": {
   "display_name": "Python 3",
   "language": "python",
   "name": "python3"
  },
  "language_info": {
   "codemirror_mode": {
    "name": "ipython",
    "version": 3
   },
   "file_extension": ".py",
   "mimetype": "text/x-python",
   "name": "python",
   "nbconvert_exporter": "python",
   "pygments_lexer": "ipython3",
   "version": "3.9.0"
  }
 },
 "nbformat": 4,
 "nbformat_minor": 2
}
