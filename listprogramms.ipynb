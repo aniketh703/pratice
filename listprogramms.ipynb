{
 "cells": [
  {
   "cell_type": "code",
   "execution_count": 2,
   "metadata": {},
   "outputs": [
    {
     "name": "stdout",
     "output_type": "stream",
     "text": [
      "not empty list\n"
     ]
    }
   ],
   "source": [
    "#empty list or not\n",
    "l=[4,56,5]\n",
    "c=0\n",
    "for i in l:\n",
    "    c+=1\n",
    "if c==0:\n",
    "    print(\"empty list\")\n",
    "else:\n",
    "    print('not empty list')"
   ]
  },
  {
   "cell_type": "code",
   "execution_count": 6,
   "metadata": {},
   "outputs": [
    {
     "name": "stdout",
     "output_type": "stream",
     "text": [
      "[1]\n",
      "[1, 2]\n",
      "[1, 2, 4]\n"
     ]
    }
   ],
   "source": [
    "#clone the list\n",
    "l=[1,2,4]\n",
    "l1=[]\n",
    "for i in l:\n",
    "    l1=l1+[i]\n",
    "print(l1)"
   ]
  },
  {
   "cell_type": "code",
   "execution_count": 13,
   "metadata": {},
   "outputs": [
    {
     "name": "stdout",
     "output_type": "stream",
     "text": [
      "63 2\n"
     ]
    }
   ],
   "source": [
    "l=[22,2,37,63]\n",
    "lar=0\n",
    "sma=l[0]\n",
    "for i in l:\n",
    "    if i>lar:\n",
    "        lar=i\n",
    "    if i<sma:\n",
    "        sma=i\n",
    "print(lar,sma)"
   ]
  },
  {
   "cell_type": "code",
   "execution_count": 6,
   "metadata": {},
   "outputs": [
    {
     "name": "stdout",
     "output_type": "stream",
     "text": [
      "[1, 3, 5, 7, 9]\n"
     ]
    }
   ],
   "source": [
    "#print odd numbers of the list inside the same list\n",
    "l=[1,2,3,4,5,6,7,8,9]\n",
    "i=0\n",
    "while i<len(l)-1:\n",
    "    ele=l[i]\n",
    "    if ele%2==0:\n",
    "        del l[i]\n",
    "    i+=1\n",
    "print(l)\n",
    "        "
   ]
  },
  {
   "cell_type": "code",
   "execution_count": 34,
   "metadata": {},
   "outputs": [
    {
     "name": "stdout",
     "output_type": "stream",
     "text": [
      "[9, 7, 4, 4, 2, 1]\n"
     ]
    }
   ],
   "source": [
    "l=[1,2,4,4,7,9]\n",
    "l1=[]\n",
    "for i in l[::-1]:\n",
    "    l1=l1+[i]\n",
    "l=l1\n",
    "print(l1)\n",
    "    "
   ]
  },
  {
   "cell_type": "code",
   "execution_count": 5,
   "metadata": {},
   "outputs": [
    {
     "name": "stdout",
     "output_type": "stream",
     "text": [
      "[1, 3, 5, 7, 9]\n"
     ]
    }
   ],
   "source": [
    "#print odd numbers of the list inside the same list\n",
    "l=[1,2,3,4,5,6,7,8,9]\n",
    "l1=[]\n",
    "for i in l:\n",
    "    if i%2!=0:\n",
    "        l1=l1+[i]\n",
    "print(l1)\n"
   ]
  }
 ],
 "metadata": {
  "kernelspec": {
   "display_name": "Python 3",
   "language": "python",
   "name": "python3"
  },
  "language_info": {
   "codemirror_mode": {
    "name": "ipython",
    "version": 3
   },
   "file_extension": ".py",
   "mimetype": "text/x-python",
   "name": "python",
   "nbconvert_exporter": "python",
   "pygments_lexer": "ipython3",
   "version": "3.9.0"
  }
 },
 "nbformat": 4,
 "nbformat_minor": 2
}
