{
 "cells": [
  {
   "cell_type": "code",
   "execution_count": 2,
   "metadata": {},
   "outputs": [
    {
     "name": "stdout",
     "output_type": "stream",
     "text": [
      "not empty list\n"
     ]
    }
   ],
   "source": [
    "#empty list or not\n",
    "l=[4,56,5]\n",
    "c=0\n",
    "for i in l:\n",
    "    c+=1\n",
    "if c==0:\n",
    "    print(\"empty list\")\n",
    "else:\n",
    "    print('not empty list')"
   ]
  },
  {
   "cell_type": "code",
   "execution_count": 6,
   "metadata": {},
   "outputs": [
    {
     "name": "stdout",
     "output_type": "stream",
     "text": [
      "[1]\n",
      "[1, 2]\n",
      "[1, 2, 4]\n"
     ]
    }
   ],
   "source": [
    "#clone the list\n",
    "l=[1,2,4]\n",
    "l1=[]\n",
    "for i in l:\n",
    "    l1=l1+[i]\n",
    "print(l1)"
   ]
  },
  {
   "cell_type": "code",
   "execution_count": 13,
   "metadata": {},
   "outputs": [
    {
     "name": "stdout",
     "output_type": "stream",
     "text": [
      "63 2\n"
     ]
    }
   ],
   "source": [
    "#large and small number in list\n",
    "l=[22,2,37,63]\n",
    "lar=0\n",
    "sma=l[0]\n",
    "for i in l:\n",
    "    if i>lar:\n",
    "        lar=i\n",
    "    if i<sma:\n",
    "        sma=i\n",
    "print(lar,sma)"
   ]
  },
  {
   "cell_type": "code",
   "execution_count": 16,
   "metadata": {},
   "outputs": [
    {
     "name": "stdout",
     "output_type": "stream",
     "text": [
      "[1, 7, 9]\n"
     ]
    }
   ],
   "source": [
    "#print odd numbers of the list inside the same list\n",
    "l=[1,2,4,7,9]\n",
    "l1=[]\n",
    "for i in l:\n",
    "    if i%2!=0:\n",
    "        l1=l1+[i]\n",
    "print(l1)\n",
    "        "
   ]
  },
  {
   "cell_type": "code",
   "execution_count": 17,
   "metadata": {},
   "outputs": [
    {
     "name": "stdout",
     "output_type": "stream",
     "text": [
      "[9, 7, 4, 4, 2, 1]\n"
     ]
    }
   ],
   "source": [
    "#reverse the list\n",
    "l=[1,2,4,4,7,9]\n",
    "l1=[]\n",
    "for i in l[::-1]:\n",
    "    l1=l1+[i]\n",
    "l=l1\n",
    "print(l)\n",
    "    "
   ]
  },
  {
   "cell_type": "code",
   "execution_count": 8,
   "metadata": {},
   "outputs": [
    {
     "name": "stdout",
     "output_type": "stream",
     "text": [
      "1\n"
     ]
    }
   ],
   "source": [
    "#find the smallest number in the list\n",
    "l=[1,2,3,4,5,6,7,8,9]\n",
    "sm=l[0]\n",
    "for i in l:\n",
    "    if i<sm:\n",
    "        sm=i\n",
    "print(sm)"
   ]
  },
  {
   "cell_type": "code",
   "execution_count": 23,
   "metadata": {},
   "outputs": [
    {
     "name": "stdout",
     "output_type": "stream",
     "text": [
      "10\n"
     ]
    }
   ],
   "source": [
    "#find the sum of elements in the list\n",
    "l=[1,2,3,4]\n",
    "sum=0\n",
    "for i in l:\n",
    "    sum+=i\n",
    "print(sum)"
   ]
  },
  {
   "cell_type": "code",
   "execution_count": 11,
   "metadata": {},
   "outputs": [
    {
     "name": "stdout",
     "output_type": "stream",
     "text": [
      "12 4\n"
     ]
    }
   ],
   "source": [
    "#sum of even and odd numbers in the list\n",
    "l=[8,4,1,3]\n",
    "eve=0\n",
    "odd=0\n",
    "for i in l:\n",
    "    if i%2==0:\n",
    "        eve+=i\n",
    "    else:\n",
    "        odd+=i\n",
    "print(eve,odd)"
   ]
  },
  {
   "cell_type": "code",
   "execution_count": 12,
   "metadata": {},
   "outputs": [
    {
     "name": "stdout",
     "output_type": "stream",
     "text": [
      "[1, 3, 4, 8]\n"
     ]
    }
   ],
   "source": [
    "#Python program to Sort Elements in Ascending Order\n",
    "l=[8,4,1,3]\n",
    "for i in range(len(l)):\n",
    "    for j in range(i+1,len(l)):\n",
    "        if l[i]>l[j]:\n",
    "            l[i],l[j]=l[j],l[i]\n",
    "print(l)\n",
    "\n"
   ]
  },
  {
   "cell_type": "code",
   "execution_count": 22,
   "metadata": {},
   "outputs": [
    {
     "name": "stdout",
     "output_type": "stream",
     "text": [
      "4\n"
     ]
    }
   ],
   "source": [
    "# program to Print Second Largest Number in a List USE for or while loop\n",
    "l=[8,4,1,3]\n",
    "for i in range(len(l)):\n",
    "    for j in range(i+1,len(l)):\n",
    "        if l[i]>l[j]:\n",
    "            l[i],l[j]=l[j],l[i]\n",
    "print(l[-2])\n"
   ]
  },
  {
   "cell_type": "code",
   "execution_count": 11,
   "metadata": {},
   "outputs": [
    {
     "name": "stdout",
     "output_type": "stream",
     "text": [
      "[2, 3, 5]\n"
     ]
    }
   ],
   "source": [
    "l=[1,2,3,4,5]\n",
    "l1=[]\n",
    "for i in l:\n",
    "    num=i\n",
    "    c=0\n",
    "    j=1\n",
    "    while j<=num:\n",
    "        if (num%j==0):\n",
    "            c+=1\n",
    "        j+=1\n",
    "    if c==2:\n",
    "        l1=l1+[i]\n",
    "print(l1)"
   ]
  },
  {
   "cell_type": "code",
   "execution_count": 30,
   "metadata": {},
   "outputs": [
    {
     "name": "stdout",
     "output_type": "stream",
     "text": [
      "9\n",
      "8\n",
      "8\n"
     ]
    }
   ],
   "source": [
    "l=['PYspiders@12','JsPiDers@123',\"QsPIderS@1234\"]\n",
    "for i in l:\n",
    "    st=i\n",
    "    c=0\n",
    "    j=0\n",
    "    while j<len(st):\n",
    "        if (st[j]>=\"A\" and st[j]<=\"Z\") or (st[j]>='a' and st[j]<='z'):\n",
    "            c+=1\n",
    "        j+=1    \n",
    "    print(c)\n",
    "\n",
    "sss\n"
   ]
  },
  {
   "cell_type": "code",
   "execution_count": 33,
   "metadata": {},
   "outputs": [
    {
     "name": "stdout",
     "output_type": "stream",
     "text": [
      "2\n",
      "3\n",
      "4\n"
     ]
    }
   ],
   "source": [
    "l=['PYspiders@12','JsPiDers@123',\"QsPIderS@1234\"]\n",
    "for i in l:\n",
    "    st=i\n",
    "    c=0\n",
    "    j=0\n",
    "    while j<len(st):\n",
    "        if (st[j]>=\"0\" and st[j]<=\"9\"):\n",
    "            c+=1\n",
    "        j+=1\n",
    "    print(c)"
   ]
  },
  {
   "cell_type": "code",
   "execution_count": 35,
   "metadata": {},
   "outputs": [
    {
     "name": "stdout",
     "output_type": "stream",
     "text": [
      "2\n",
      "2\n",
      "2\n"
     ]
    }
   ],
   "source": [
    "l=['PYspiders@12','JsPiDers@123',\"QsPIderS@1234\"]\n",
    "for i in l:\n",
    "    st=i\n",
    "    c=0\n",
    "    j=0\n",
    "    while j<len(st):\n",
    "        if st[j] in 'AEIOUaeiou':\n",
    "            c+=1\n",
    "        j+=1\n",
    "    print(c)"
   ]
  },
  {
   "cell_type": "code",
   "execution_count": 36,
   "metadata": {},
   "outputs": [
    {
     "name": "stdout",
     "output_type": "stream",
     "text": [
      "2\n",
      "3\n",
      "4\n"
     ]
    }
   ],
   "source": [
    "l=['PYspiders@12','JsPiDers@123',\"QsPIderS@1234\"]\n",
    "for i in l:\n",
    "    st=i\n",
    "    c=0\n",
    "    j=0\n",
    "    while j<len(st):\n",
    "        if st[j]>=\"A\" and st[j]<=\"Z\":\n",
    "            c+=1\n",
    "        j+=1\n",
    "    print(c)"
   ]
  },
  {
   "cell_type": "code",
   "execution_count": 31,
   "metadata": {},
   "outputs": [
    {
     "name": "stdout",
     "output_type": "stream",
     "text": [
      "2 9 2 2\n",
      "3 8 2 3\n",
      "4 8 2 4\n"
     ]
    }
   ],
   "source": [
    "l=['PYspiders@12','JsPiDers@123',\"QsPIderS@1234\"]\n",
    "for i in l:\n",
    "    st=i\n",
    "    c=0\n",
    "    j=0\n",
    "    c2=0\n",
    "    c3=0\n",
    "    c1=0\n",
    "    while j<len(st):\n",
    "        if st[j]>=\"A\" and st[j]<=\"Z\":\n",
    "            c+=1\n",
    "        if (st[j]>=\"A\" and st[j]<=\"Z\") or (st[j]>='a' and st[j]<='z'):\n",
    "            c1+=1\n",
    "        if st[j] in 'AEIOUaeiou':\n",
    "            c2+=1\n",
    "        if (st[j]>=\"0\" and st[j]<=\"9\"):\n",
    "            c3+=1\n",
    "        j+=1\n",
    "    print(c,c1,c2,c3)\n",
    "\n",
    "    \n",
    "    "
   ]
  },
  {
   "cell_type": "code",
   "execution_count": 44,
   "metadata": {},
   "outputs": [
    {
     "name": "stdout",
     "output_type": "stream",
     "text": [
      "['abcd', 'xyz', 'ab@123', 'a', 'ab', 'abc', 'abcd', 'x', 'xy', 'xyz', 'a', 'ab', 'ab@', 'ab@1', 'ab@12', 'ab@123']\n"
     ]
    }
   ],
   "source": [
    "l=['abcd','xyz','ab@123']\n",
    "for i in l:\n",
    "    st=i\n",
    "    res=''\n",
    "    for j in st:\n",
    "        res=res+j\n",
    "        st=res\n",
    "        l=l+[st]\n",
    "print(l)\n",
    "\n",
    "        "
   ]
  },
  {
   "cell_type": "code",
   "execution_count": 57,
   "metadata": {},
   "outputs": [
    {
     "name": "stdout",
     "output_type": "stream",
     "text": [
      "['dcba', 'zyx', '321@ba']\n"
     ]
    }
   ],
   "source": [
    "l=['abcd','xyz','ab@123']\n",
    "l1=[]\n",
    "#'dcba','zyx','321@ba'\n",
    "for i in l:\n",
    "    st=i\n",
    "    res=''\n",
    "    a=len(st)-1\n",
    "    while a>=0:\n",
    "        res=res+st[a]\n",
    "        a-=1\n",
    "    l1=l1+[res]\n",
    "l=l1\n",
    "print(l)\n",
    "\n",
    "\n"
   ]
  },
  {
   "cell_type": "code",
   "execution_count": 58,
   "metadata": {},
   "outputs": [
    {
     "name": "stdout",
     "output_type": "stream",
     "text": [
      "['dcba', 'zyx', '321@ba']\n"
     ]
    }
   ],
   "source": [
    "l=['abcd','xyz','ab@123']\n",
    "i=0\n",
    "while i<len(l):\n",
    "    st=l[i]\n",
    "    res=''\n",
    "    a=len(st)-1\n",
    "    while a>=0:\n",
    "        res=res+st[a]\n",
    "        a-=1\n",
    "    l[i]=res\n",
    "    i+=1\n",
    "print(l)"
   ]
  },
  {
   "cell_type": "code",
   "execution_count": 11,
   "metadata": {},
   "outputs": [
    {
     "ename": "TypeError",
     "evalue": "'in <string>' requires string as left operand, not int",
     "output_type": "error",
     "traceback": [
      "\u001b[1;31m---------------------------------------------------------------------------\u001b[0m",
      "\u001b[1;31mTypeError\u001b[0m                                 Traceback (most recent call last)",
      "Cell \u001b[1;32mIn[11], line 5\u001b[0m\n\u001b[0;32m      3\u001b[0m \u001b[38;5;28;01mfor\u001b[39;00m i \u001b[38;5;129;01min\u001b[39;00m st:\n\u001b[0;32m      4\u001b[0m     st\u001b[38;5;241m=\u001b[39mi\n\u001b[1;32m----> 5\u001b[0m     \u001b[38;5;28;01mif\u001b[39;00m i \u001b[38;5;129;01mand\u001b[39;00m \u001b[38;5;28;43mord\u001b[39;49m\u001b[43m(\u001b[49m\u001b[43mi\u001b[49m\u001b[43m)\u001b[49m\u001b[38;5;241;43m+\u001b[39;49m\u001b[38;5;241;43m1\u001b[39;49m\u001b[43m \u001b[49m\u001b[38;5;129;43;01min\u001b[39;49;00m\u001b[43m \u001b[49m\u001b[38;5;124;43m'\u001b[39;49m\u001b[38;5;124;43mABC\u001b[39;49m\u001b[38;5;124;43m'\u001b[39;49m:\n\u001b[0;32m      6\u001b[0m         l\u001b[38;5;241m=\u001b[39ml\u001b[38;5;241m+\u001b[39m[st]        \n\u001b[0;32m      7\u001b[0m \u001b[38;5;28mprint\u001b[39m(l)\n",
      "\u001b[1;31mTypeError\u001b[0m: 'in <string>' requires string as left operand, not int"
     ]
    }
   ],
   "source": [
    "st='ABCDEFGIJKABC'\n",
    "l=[]\n",
    "for i in st:\n",
    "    st=i\n",
    "    if i and ord(i)+1 in 'ABC':\n",
    "        l=l+[st]        \n",
    "print(l)\n"
   ]
  },
  {
   "cell_type": "code",
   "execution_count": 18,
   "metadata": {},
   "outputs": [
    {
     "name": "stdout",
     "output_type": "stream",
     "text": [
      "2\n",
      "3\n",
      "5\n",
      "7\n",
      "17\n"
     ]
    }
   ],
   "source": [
    "#sum of prime elements in given list\n",
    "l=[1,2,3,4,5,6,7,8,9]\n",
    "su=0\n",
    "for i in l:\n",
    "    if i>1:\n",
    "        for j in range(2,i):\n",
    "            if i%j==0:\n",
    "                break\n",
    "        else:\n",
    "            print(i)\n",
    "            su=su+i\n",
    "print(su)\n",
    "            "
   ]
  },
  {
   "cell_type": "code",
   "execution_count": 17,
   "metadata": {},
   "outputs": [
    {
     "name": "stdout",
     "output_type": "stream",
     "text": [
      "6 6 perfect number\n",
      "28 28 perfect number\n",
      "496 496 perfect number\n"
     ]
    }
   ],
   "source": [
    "l=[1,2,3,4,5,6,128,28,496]\n",
    "for i in l:\n",
    "    su=0\n",
    "    j=1\n",
    "    while j<i:\n",
    "        if i%j==0:\n",
    "            su=su+j\n",
    "        j+=1\n",
    "    if su==i:\n",
    "        print(i,su,\"perfect number\")\n",
    "        \n",
    "        "
   ]
  },
  {
   "cell_type": "code",
   "execution_count": 49,
   "metadata": {},
   "outputs": [
    {
     "ename": "KeyboardInterrupt",
     "evalue": "",
     "output_type": "error",
     "traceback": [
      "\u001b[1;31m---------------------------------------------------------------------------\u001b[0m",
      "\u001b[1;31mKeyboardInterrupt\u001b[0m                         Traceback (most recent call last)",
      "Cell \u001b[1;32mIn[49], line 19\u001b[0m\n\u001b[0;32m     17\u001b[0m     \u001b[38;5;28;01mif\u001b[39;00m i\u001b[38;5;241m%\u001b[39mk\u001b[38;5;241m==\u001b[39m\u001b[38;5;241m0\u001b[39m:\n\u001b[0;32m     18\u001b[0m         se\u001b[38;5;241m=\u001b[39mse\u001b[38;5;241m+\u001b[39mk\n\u001b[1;32m---> 19\u001b[0m     j \u001b[38;5;241m+\u001b[39m\u001b[38;5;241m=\u001b[39m \u001b[38;5;241m1\u001b[39m\n\u001b[0;32m     20\u001b[0m \u001b[38;5;28;01mif\u001b[39;00m se\u001b[38;5;241m==\u001b[39mi:\n\u001b[0;32m     21\u001b[0m     sem\u001b[38;5;241m=\u001b[39msem\u001b[38;5;241m+\u001b[39mse\n",
      "\u001b[1;31mKeyboardInterrupt\u001b[0m: "
     ]
    }
   ],
   "source": [
    "l = [1, 2, 3, 4, 5, 6]\n",
    "su = 0\n",
    "se=0\n",
    "sem=0\n",
    "for i in l:\n",
    "    if i<2:\n",
    "        continue\n",
    "    c = 0\n",
    "    j = 1\n",
    "    k=1\n",
    "\n",
    "    while j<= i:\n",
    "        if i % j == 0:\n",
    "            c += 1\n",
    "        j+=1\n",
    "    while k<i:\n",
    "        if i%k==0:\n",
    "            se=se+k\n",
    "        j += 1\n",
    "    if se==i:\n",
    "        sem=sem+se\n",
    "\n",
    "    if c == 2:\n",
    "        su += i\n",
    "    \n",
    "print(sem)\n",
    "print(su)\n"
   ]
  },
  {
   "cell_type": "code",
   "execution_count": 2,
   "metadata": {},
   "outputs": [
    {
     "name": "stdout",
     "output_type": "stream",
     "text": [
      "15\n"
     ]
    }
   ],
   "source": [
    "l=[1,2,3,4,5]\n",
    "i=0\n",
    "um=0\n",
    "while i<len(l):\n",
    "    um=um+l[i]\n",
    "    i+=1\n",
    "print(um)"
   ]
  },
  {
   "cell_type": "code",
   "execution_count": 7,
   "metadata": {},
   "outputs": [
    {
     "name": "stdout",
     "output_type": "stream",
     "text": [
      "1\n"
     ]
    }
   ],
   "source": [
    "l=[14,5,1]\n",
    "i=0\n",
    "min=l[0]\n",
    "while i<len(l):\n",
    "    if min>l[i]:\n",
    "        min=l[i]\n",
    "    i+=1\n",
    "print(min)"
   ]
  },
  {
   "cell_type": "code",
   "execution_count": 9,
   "metadata": {},
   "outputs": [
    {
     "name": "stdout",
     "output_type": "stream",
     "text": [
      "22\n"
     ]
    }
   ],
   "source": [
    "l=[1,22,3,4,5]\n",
    "i=0\n",
    "max=0\n",
    "while i<len(l):\n",
    "    if max<l[i]:\n",
    "        max=l[i]\n",
    "    i+=1\n",
    "print(max)"
   ]
  },
  {
   "cell_type": "code",
   "execution_count": 56,
   "metadata": {},
   "outputs": [
    {
     "name": "stdout",
     "output_type": "stream",
     "text": [
      "4\n"
     ]
    }
   ],
   "source": [
    "l=[1,9,4,24]\n",
    "i=0\n",
    "min=l[0]\n",
    "sec_min=l[0]\n",
    "while i<len(l):\n",
    "    if min>l[i]:\n",
    "        sec_min=min\n",
    "        min=l[i]\n",
    "    else:\n",
    "        sec_min=min\n",
    "        min=l[i]\n",
    "    i+=1\n",
    "print(sec_min)"
   ]
  },
  {
   "cell_type": "code",
   "execution_count": 24,
   "metadata": {},
   "outputs": [
    {
     "name": "stdout",
     "output_type": "stream",
     "text": [
      "6\n"
     ]
    }
   ],
   "source": [
    "l=[1,3,63,6,5]\n",
    "i=0\n",
    "max=l[0]\n",
    "sec_max=l[0]\n",
    "while i<len(l):\n",
    "    if max<l[i]:\n",
    "        sec_max=max\n",
    "        max=l[i]\n",
    "    else:\n",
    "        sec_max=max\n",
    "        max=l[i]\n",
    "    i+=1\n",
    "print(sec_max)"
   ]
  },
  {
   "cell_type": "code",
   "execution_count": 28,
   "metadata": {},
   "outputs": [
    {
     "name": "stdout",
     "output_type": "stream",
     "text": [
      "3\n"
     ]
    }
   ],
   "source": [
    "l=[1,2,4,5]\n",
    "le=len(l)\n",
    "um=0\n",
    "i=0\n",
    "while i<le:\n",
    "    um=um+l[i]\n",
    "    i+=1\n",
    "avg=um/le\n",
    "print(int(avg))"
   ]
  },
  {
   "cell_type": "code",
   "execution_count": 31,
   "metadata": {},
   "outputs": [
    {
     "name": "stdout",
     "output_type": "stream",
     "text": [
      "5\n"
     ]
    }
   ],
   "source": [
    "l=[1,2,4,5]\n",
    "i=0\n",
    "su=0\n",
    "while i<len(l):\n",
    "    if i%2==0:\n",
    "        su=su+l[i]\n",
    "    i+=1\n",
    "print(su)"
   ]
  },
  {
   "cell_type": "code",
   "execution_count": 32,
   "metadata": {},
   "outputs": [
    {
     "name": "stdout",
     "output_type": "stream",
     "text": [
      "7\n"
     ]
    }
   ],
   "source": [
    "l=[1,2,4,5]\n",
    "i=0\n",
    "su=0\n",
    "while i<len(l):\n",
    "    if i%2==1:\n",
    "        su=su+l[i]\n",
    "    i+=1\n",
    "print(su)"
   ]
  },
  {
   "cell_type": "code",
   "execution_count": 35,
   "metadata": {},
   "outputs": [
    {
     "name": "stdout",
     "output_type": "stream",
     "text": [
      "2\n"
     ]
    }
   ],
   "source": [
    "l=[3,2,2,6]\n",
    "i=0\n",
    "min=l[0]\n",
    "while i<len(l):\n",
    "    if i%2==0:\n",
    "        if min>l[i]:\n",
    "            min=l[i]\n",
    "    i+=1\n",
    "print(min)"
   ]
  },
  {
   "cell_type": "code",
   "execution_count": 36,
   "metadata": {},
   "outputs": [
    {
     "name": "stdout",
     "output_type": "stream",
     "text": [
      "6\n"
     ]
    }
   ],
   "source": [
    "l=[3,2,2,6]\n",
    "i=0\n",
    "mas=l[0]\n",
    "while i<len(l):\n",
    "    if i%2==1:\n",
    "        if mas<l[i]:\n",
    "            mas=l[i]\n",
    "    i+=1\n",
    "print(mas)"
   ]
  },
  {
   "cell_type": "code",
   "execution_count": 45,
   "metadata": {},
   "outputs": [
    {
     "name": "stdout",
     "output_type": "stream",
     "text": [
      "2\n",
      "[1, 3]\n",
      "4\n",
      "2.0\n"
     ]
    }
   ],
   "source": [
    "l=[1,2,3,55]\n",
    "i=0\n",
    "su=0\n",
    "el=[]\n",
    "while i<len(l):\n",
    "    if i%2==0:\n",
    "        e=l[i]\n",
    "        el=el+[e]\n",
    "    i+=1\n",
    "le=len(el)\n",
    "print(le)\n",
    "su=0\n",
    "j=0\n",
    "print(el)\n",
    "while j<le:\n",
    "    su=su+el[j]\n",
    "    j+=1\n",
    "print(su)\n",
    "avg=su/le\n",
    "print(avg)        "
   ]
  },
  {
   "cell_type": "code",
   "execution_count": 46,
   "metadata": {},
   "outputs": [
    {
     "name": "stdout",
     "output_type": "stream",
     "text": [
      "2\n",
      "[2, 55]\n",
      "57\n",
      "28.5\n"
     ]
    }
   ],
   "source": [
    "l=[1,2,3,55]\n",
    "i=0\n",
    "su=0\n",
    "el=[]\n",
    "while i<len(l):\n",
    "    if i%2==1:\n",
    "        e=l[i]\n",
    "        el=el+[e]\n",
    "    i+=1\n",
    "le=len(el)\n",
    "print(le)\n",
    "su=0\n",
    "j=0\n",
    "print(el)\n",
    "while j<le:\n",
    "    su=su+el[j]\n",
    "    j+=1\n",
    "print(su)\n",
    "avg=su/le\n",
    "print(avg)        "
   ]
  },
  {
   "cell_type": "code",
   "execution_count": 47,
   "metadata": {},
   "outputs": [
    {
     "name": "stdout",
     "output_type": "stream",
     "text": [
      "3\n"
     ]
    }
   ],
   "source": [
    "l=[1,2,3,4]\n",
    "mid=len(l)//2\n",
    "i=0\n",
    "um=0\n",
    "while i<mid:\n",
    "    um=um+l[i]\n",
    "    i+=1\n",
    "print(um)"
   ]
  },
  {
   "cell_type": "code",
   "execution_count": 48,
   "metadata": {},
   "outputs": [
    {
     "name": "stdout",
     "output_type": "stream",
     "text": [
      "7\n"
     ]
    }
   ],
   "source": [
    "#14\n",
    "l=[1,2,3,4]\n",
    "mid=len(l)//2\n",
    "um=0\n",
    "while mid<len(l):\n",
    "    um=um+l[mid]\n",
    "    mid+=1\n",
    "print(um)\n"
   ]
  },
  {
   "cell_type": "code",
   "execution_count": 51,
   "metadata": {},
   "outputs": [
    {
     "name": "stdout",
     "output_type": "stream",
     "text": [
      "8\n"
     ]
    }
   ],
   "source": [
    "#15\n",
    "l=[8,23,4,5]\n",
    "mid=len(l)//2\n",
    "min=l[0]\n",
    "i=0\n",
    "while i<mid:\n",
    "    if min>l[i]:\n",
    "        min=l[i]\n",
    "    i+=1\n",
    "print(min)\n",
    "    "
   ]
  },
  {
   "cell_type": "code",
   "execution_count": 54,
   "metadata": {},
   "outputs": [
    {
     "name": "stdout",
     "output_type": "stream",
     "text": [
      "7\n"
     ]
    }
   ],
   "source": [
    "#16\n",
    "l=[8,3,7,643]\n",
    "mid=len(l)//2\n",
    "min=l[mid]\n",
    "while mid<len(l):\n",
    "    if min>l[mid]:\n",
    "        min=l[mid]\n",
    "    mid+=1\n",
    "print(min)\n"
   ]
  },
  {
   "cell_type": "code",
   "execution_count": 63,
   "metadata": {},
   "outputs": [
    {
     "name": "stdout",
     "output_type": "stream",
     "text": [
      "3\n"
     ]
    }
   ],
   "source": [
    "#17\n",
    "l=[1,2,3,55654,4,6]\n",
    "mid=len(l)//2\n",
    "i=0\n",
    "ma=l[0]\n",
    "while i<mid:\n",
    "    if ma<l[i]:\n",
    "        ma=l[i]\n",
    "    i+=1\n",
    "print(ma)\n"
   ]
  },
  {
   "cell_type": "code",
   "execution_count": 64,
   "metadata": {},
   "outputs": [
    {
     "name": "stdout",
     "output_type": "stream",
     "text": [
      "6\n"
     ]
    }
   ],
   "source": [
    "#18\n",
    "l=[1,2,4,5,6]\n",
    "mid=len(l)//2\n",
    "ma=l[mid]\n",
    "while mid<len(l):\n",
    "    if ma<l[mid]:\n",
    "        ma=l[mid]\n",
    "    mid+=1\n",
    "print(ma)\n"
   ]
  },
  {
   "cell_type": "code",
   "execution_count": 68,
   "metadata": {},
   "outputs": [
    {
     "name": "stdout",
     "output_type": "stream",
     "text": [
      "3.0\n"
     ]
    }
   ],
   "source": [
    "#19\n",
    "l=[1,2,6,3,44,5]\n",
    "mid=len(l)//2\n",
    "um=0\n",
    "i=0\n",
    "while i<mid:\n",
    "    um=um+l[i]\n",
    "    i+=1\n",
    "avg=um/mid\n",
    "print(avg)"
   ]
  },
  {
   "cell_type": "code",
   "execution_count": 81,
   "metadata": {},
   "outputs": [
    {
     "name": "stdout",
     "output_type": "stream",
     "text": [
      "3\n",
      "7.0\n"
     ]
    }
   ],
   "source": [
    "#20\n",
    "l=[1,3,4,5,7,9]\n",
    "mid=len(l)//2\n",
    "e=mid\n",
    "print(e)\n",
    "um=0\n",
    "while mid<len(l):\n",
    "    um=um+l[mid]\n",
    "    mid+=1\n",
    "avg=um/e\n",
    "print(avg)"
   ]
  },
  {
   "cell_type": "code",
   "execution_count": 88,
   "metadata": {},
   "outputs": [
    {
     "name": "stdout",
     "output_type": "stream",
     "text": [
      "[6, 5, 5, 34, 2, 1]\n"
     ]
    }
   ],
   "source": [
    "#21\n",
    "l=[1,2,34,5,5,6]\n",
    "l2=[]\n",
    "i=0\n",
    "while i<len(l):\n",
    "    ele=l[i]\n",
    "    l2=[ele]+l2\n",
    "    i+=1\n",
    "print(l2)\n"
   ]
  },
  {
   "cell_type": "code",
   "execution_count": 91,
   "metadata": {},
   "outputs": [
    {
     "name": "stdout",
     "output_type": "stream",
     "text": [
      "[44, 2, 1]\n"
     ]
    }
   ],
   "source": [
    "#22\n",
    "l=[1,2,44,44,5,6]\n",
    "mid=len(l)//2\n",
    "i=0\n",
    "l2=[]\n",
    "while i<mid:\n",
    "    ele=l[i]\n",
    "    l2=[ele]+l2\n",
    "    i+=1\n",
    "print(l2)\n"
   ]
  },
  {
   "cell_type": "code",
   "execution_count": 95,
   "metadata": {},
   "outputs": [
    {
     "name": "stdout",
     "output_type": "stream",
     "text": [
      "[5, 7, 6, 55]\n"
     ]
    }
   ],
   "source": [
    "#23\n",
    "l=[1,2,3,4,55,6,7,5]\n",
    "mid=len(l)//2\n",
    "l2=[]\n",
    "while mid<len(l):\n",
    "    ele=l[mid]\n",
    "    l2=[ele]+l2\n",
    "    mid+=1\n",
    "print(l2)"
   ]
  },
  {
   "cell_type": "code",
   "execution_count": 99,
   "metadata": {},
   "outputs": [
    {
     "name": "stdout",
     "output_type": "stream",
     "text": [
      "[1, 3, 23, 6]\n"
     ]
    }
   ],
   "source": [
    "#24\n",
    "l=[1,2,3,3,23,5,6]\n",
    "i=0\n",
    "l1=[]\n",
    "while i<len(l):\n",
    "    if i%2==0:\n",
    "        ele=l[i]\n",
    "        l1=l1+[ele]\n",
    "    i+=1\n",
    "print(l1)\n"
   ]
  },
  {
   "cell_type": "code",
   "execution_count": 100,
   "metadata": {},
   "outputs": [
    {
     "name": "stdout",
     "output_type": "stream",
     "text": [
      "[6, 23, 3, 1]\n"
     ]
    }
   ],
   "source": [
    "#25\n",
    "l=[1,2,3,3,23,5,6]\n",
    "i=0\n",
    "l1=[]\n",
    "while i<len(l):\n",
    "    if i%2==0:\n",
    "        ele=l[i]\n",
    "        l1=[ele]+l1\n",
    "    i+=1\n",
    "print(l1)\n"
   ]
  },
  {
   "cell_type": "code",
   "execution_count": 102,
   "metadata": {},
   "outputs": [
    {
     "name": "stdout",
     "output_type": "stream",
     "text": [
      "[2, 3, 5]\n"
     ]
    }
   ],
   "source": [
    "#26\n",
    "l=[1,2,3,3,23,5,6]\n",
    "i=0\n",
    "l1=[]\n",
    "while i<len(l):\n",
    "    if i%2==1:\n",
    "        ele=l[i]\n",
    "        l1=l1+[ele]\n",
    "    i+=1\n",
    "print(l1)\n"
   ]
  },
  {
   "cell_type": "code",
   "execution_count": 103,
   "metadata": {},
   "outputs": [
    {
     "name": "stdout",
     "output_type": "stream",
     "text": [
      "[5, 3, 2]\n"
     ]
    }
   ],
   "source": [
    "#27\n",
    "l=[1,2,3,3,23,5,6]\n",
    "i=0\n",
    "l1=[]\n",
    "while i<len(l):\n",
    "    if i%2==1:\n",
    "        ele=l[i]\n",
    "        l1=[ele]+l1\n",
    "    i+=1\n",
    "print(l1)\n",
    "\n"
   ]
  },
  {
   "cell_type": "code",
   "execution_count": 107,
   "metadata": {},
   "outputs": [
    {
     "name": "stdout",
     "output_type": "stream",
     "text": [
      "2 4\n"
     ]
    }
   ],
   "source": [
    "#28\n",
    "l=[1,2,4,6,8,9]\n",
    "i=0\n",
    "j=int(input(\"enter number you want:\"))\n",
    "while i<len(l):\n",
    "    ele=l[i]\n",
    "    if j==ele:\n",
    "        break\n",
    "    i+=1\n",
    "print(i,j)"
   ]
  },
  {
   "cell_type": "code",
   "execution_count": 6,
   "metadata": {},
   "outputs": [
    {
     "name": "stdout",
     "output_type": "stream",
     "text": [
      "[1, 4, 3, 2, 5]\n"
     ]
    }
   ],
   "source": [
    "#29\n",
    "l=[1,2,3,4,5]\n",
    "i=int(input('enter inde'))\n",
    "j=int(input('enter inde'))\n",
    "p=l[i]\n",
    "q=l[j]\n",
    "k=0\n",
    "while k<len(l):\n",
    "        l[i]=q\n",
    "        l[j]=p\n",
    "        k+=1\n",
    "print(l)\n",
    "    \n",
    "\n"
   ]
  },
  {
   "cell_type": "code",
   "execution_count": 112,
   "metadata": {},
   "outputs": [
    {
     "name": "stdout",
     "output_type": "stream",
     "text": [
      "[5, 4, 3, 2, 1]\n"
     ]
    }
   ],
   "source": [
    "#30\n",
    "l=[1,2,3,4,5]\n",
    "l1=[]\n",
    "for i in l:\n",
    "    l1=[i]+l1\n",
    "print(l1)\n"
   ]
  },
  {
   "cell_type": "code",
   "execution_count": 113,
   "metadata": {},
   "outputs": [
    {
     "name": "stdout",
     "output_type": "stream",
     "text": [
      "[3, 23, 1]\n"
     ]
    }
   ],
   "source": [
    "#31\n",
    "l=[1,23,3,4,5,6]\n",
    "mid=len(l)//2\n",
    "l1=[]\n",
    "i=0\n",
    "while i<mid:\n",
    "    ele=l[i]\n",
    "    l1=[ele]+l1\n",
    "    i+=1\n",
    "print(l1)"
   ]
  },
  {
   "cell_type": "code",
   "execution_count": 115,
   "metadata": {},
   "outputs": [
    {
     "name": "stdout",
     "output_type": "stream",
     "text": [
      "[6, 5, 4]\n"
     ]
    }
   ],
   "source": [
    "#32\n",
    "l=[1,23,3,4,5,6]\n",
    "mid=len(l)//2\n",
    "l1=[]\n",
    "while mid<len(l):\n",
    "    ele=l[mid]\n",
    "    l1=[ele]+l1\n",
    "    mid+=1\n",
    "print(l1)"
   ]
  },
  {
   "cell_type": "code",
   "execution_count": 117,
   "metadata": {},
   "outputs": [
    {
     "name": "stdout",
     "output_type": "stream",
     "text": [
      "[1, 3, 5]\n"
     ]
    }
   ],
   "source": [
    "#33\n",
    "l=[1,23,3,4,5,6]\n",
    "i=0\n",
    "l1=[]\n",
    "while i<len(l):\n",
    "    if i%2==0:\n",
    "        ele=l[i]\n",
    "        l1=l1+[ele]\n",
    "    i+=1\n",
    "print(l1)"
   ]
  },
  {
   "cell_type": "code",
   "execution_count": 118,
   "metadata": {},
   "outputs": [
    {
     "name": "stdout",
     "output_type": "stream",
     "text": [
      "[23, 4, 6]\n"
     ]
    }
   ],
   "source": [
    "#34\n",
    "l=[1,23,3,4,5,6]\n",
    "i=0\n",
    "l1=[]\n",
    "while i<len(l):\n",
    "    if i%2==1:\n",
    "        ele=l[i]\n",
    "        l1=l1+[ele]\n",
    "    i+=1\n",
    "print(l1)"
   ]
  },
  {
   "cell_type": "code",
   "execution_count": 52,
   "metadata": {},
   "outputs": [
    {
     "name": "stdout",
     "output_type": "stream",
     "text": [
      "[1, 2, 3, 4, 5, 6]\n"
     ]
    }
   ],
   "source": [
    "#35\n",
    "l=[1,2,3,4,5,6] \n",
    "#[2,1,4,3,6,5]\n",
    "i=0\n",
    "while i<len(l)-1:\n",
    "    if i%2==1:\n",
    "        l[i]=l[i+1]\n",
    "        l[i+1]=l[i]\n",
    "    i+=2\n",
    "print(l)"
   ]
  }
 ],
 "metadata": {
  "kernelspec": {
   "display_name": "Python 3",
   "language": "python",
   "name": "python3"
  },
  "language_info": {
   "codemirror_mode": {
    "name": "ipython",
    "version": 3
   },
   "file_extension": ".py",
   "mimetype": "text/x-python",
   "name": "python",
   "nbconvert_exporter": "python",
   "pygments_lexer": "ipython3",
   "version": "3.9.0"
  }
 },
 "nbformat": 4,
 "nbformat_minor": 2
}
