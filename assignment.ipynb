{
 "cells": [
  {
   "cell_type": "code",
   "execution_count": 109,
   "metadata": {},
   "outputs": [
    {
     "name": "stdout",
     "output_type": "stream",
     "text": [
      "2370775858752 2370751365248\n"
     ]
    }
   ],
   "source": [
    "#111\n",
    "l1=[\"4\",7,8]\n",
    "l2=[1,2,3,4]\n",
    "if type(l1[0]) is int and type(l2[0]) is int:\n",
    "    l3=l1+l2\n",
    "    print(l3)\n",
    "else:\n",
    "    print(id(l1),id(l2))\n"
   ]
  },
  {
   "cell_type": "code",
   "execution_count": 14,
   "metadata": {},
   "outputs": [
    {
     "name": "stdout",
     "output_type": "stream",
     "text": [
      "-2\n"
     ]
    }
   ],
   "source": [
    "#110\n",
    "a=[1,2,3,4,5]\n",
    "mid=len(a)//2\n",
    "if a[mid]%2==0 and a[0]%2==0:\n",
    "    print(a[0]+a[mid])\n",
    "else:\n",
    "    print(a[0]-a[mid])"
   ]
  },
  {
   "cell_type": "code",
   "execution_count": 108,
   "metadata": {},
   "outputs": [
    {
     "name": "stdout",
     "output_type": "stream",
     "text": [
      "The pen is available in the shop. Ravi will buy the pen for $ 10\n"
     ]
    }
   ],
   "source": [
    "pen_color = input(\"color of pen: \")\n",
    "\n",
    "if pen_color == \"cello\" or pen_color == \"red\":\n",
    "    pen_cost = 10\n",
    "    print(\"The pen is available in the shop. Ravi will buy the pen for $\", pen_cost)\n",
    "else:\n",
    "    print(\"The pen is not available in the shop. Ravi will come out of the shop.\")\n"
   ]
  },
  {
   "cell_type": "code",
   "execution_count": 50,
   "metadata": {},
   "outputs": [
    {
     "name": "stdout",
     "output_type": "stream",
     "text": [
      "1\n",
      "21a3421a3421a3421a3421a34\n"
     ]
    }
   ],
   "source": [
    "#108\n",
    "l = \"21a34\"\n",
    "mid = len(l) // 2\n",
    "\n",
    "if len(l) > 3 and l[mid] in \"aeiouAEIOU\" and ord(l[0]) % 2 == 0:\n",
    "    l2 = l[mid - 1]\n",
    "    print(l2)\n",
    "    print(l * 5)\n",
    "elif ord(l[0]) % 2 != 0:\n",
    "    print(l * 3)\n"
   ]
  },
  {
   "cell_type": "code",
   "execution_count": 19,
   "metadata": {},
   "outputs": [
    {
     "name": "stdout",
     "output_type": "stream",
     "text": [
      "a\n",
      "2298789380592\n"
     ]
    }
   ],
   "source": [
    "#107\n",
    "s = \"aba\"\n",
    "s1 = \"abb\"\n",
    "if s is s1:\n",
    "    print(s1[-1])\n",
    "else:\n",
    "    print(s[0])\n",
    "    print(id(s[0]))"
   ]
  },
  {
   "cell_type": "code",
   "execution_count": 106,
   "metadata": {},
   "outputs": [
    {
     "name": "stdout",
     "output_type": "stream",
     "text": [
      "appleapple\n"
     ]
    }
   ],
   "source": [
    "#106\n",
    "st1=\"apple\"\n",
    "st2=\"applez\"\n",
    "if len(st1)==len(st2):\n",
    "    print(st1[0],st2[1])\n",
    "else:\n",
    "    print(st1,st2)"
   ]
  },
  {
   "cell_type": "code",
   "execution_count": 36,
   "metadata": {},
   "outputs": [
    {
     "name": "stdout",
     "output_type": "stream",
     "text": [
      "%%%%%\n",
      "%%%\n",
      "printed 5 times\n"
     ]
    }
   ],
   "source": [
    "#105\n",
    "ch=input()\n",
    "if not (ch>=\"a\" and ch<=\"z\" or ch>=\"A\" and ch<=\"Z\" or ch>=\"0\" and ch<=\"9\"):\n",
    "    print(ch*5)\n",
    "    print(ch*3)\n",
    "    print(\"printed 5 times\")\n"
   ]
  },
  {
   "cell_type": "code",
   "execution_count": 38,
   "metadata": {},
   "outputs": [
    {
     "name": "stdout",
     "output_type": "stream",
     "text": [
      "2298788538736 2298788538736\n"
     ]
    }
   ],
   "source": [
    "#104\n",
    "i1=int(input())\n",
    "i2=int(input())\n",
    "if i1 is i2:\n",
    "    print(id(i1),id(i2))\n",
    "else:\n",
    "    print(i1,i2)"
   ]
  },
  {
   "cell_type": "code",
   "execution_count": 42,
   "metadata": {},
   "outputs": [
    {
     "name": "stdout",
     "output_type": "stream",
     "text": [
      "14\n"
     ]
    }
   ],
   "source": [
    "#103\n",
    "num=int(input())\n",
    "if num%7==0 and num%5!=0:\n",
    "    print(num)\n",
    "else:\n",
    "    print(num*4)"
   ]
  },
  {
   "cell_type": "code",
   "execution_count": 1,
   "metadata": {},
   "outputs": [
    {
     "name": "stdout",
     "output_type": "stream",
     "text": [
      "aniketh\n"
     ]
    }
   ],
   "source": [
    "#102\n",
    "st=input()\n",
    "print(st)"
   ]
  },
  {
   "cell_type": "code",
   "execution_count": 2,
   "metadata": {},
   "outputs": [
    {
     "name": "stdout",
     "output_type": "stream",
     "text": [
      "(6+0j)\n"
     ]
    }
   ],
   "source": [
    "num=int(input())\n",
    "if num%2==0 and num%6==0:\n",
    "    com=complex(num)\n",
    "    print(com)"
   ]
  },
  {
   "cell_type": "code",
   "execution_count": 4,
   "metadata": {},
   "outputs": [
    {
     "name": "stdout",
     "output_type": "stream",
     "text": [
      "['3', '0']\n"
     ]
    }
   ],
   "source": [
    "num=int(input())\n",
    "if num%3==0 or num%5==0:\n",
    "    lt=list(str(num))\n",
    "    print(lt)"
   ]
  },
  {
   "cell_type": "code",
   "execution_count": 6,
   "metadata": {},
   "outputs": [
    {
     "name": "stdout",
     "output_type": "stream",
     "text": [
      "0\n"
     ]
    }
   ],
   "source": [
    "num=int(input())\n",
    "if num==0:\n",
    "    print(\"0\")"
   ]
  },
  {
   "cell_type": "code",
   "execution_count": 9,
   "metadata": {},
   "outputs": [
    {
     "name": "stdout",
     "output_type": "stream",
     "text": [
      "<class 'list'>\n"
     ]
    }
   ],
   "source": [
    "num=int(input())\n",
    "if num%2==0:\n",
    "    t=str(num)\n",
    "    l=[t]\n",
    "    print(type(l))\n"
   ]
  },
  {
   "cell_type": "code",
   "execution_count": 3,
   "metadata": {},
   "outputs": [
    {
     "name": "stdout",
     "output_type": "stream",
     "text": [
      "19\n"
     ]
    }
   ],
   "source": [
    "num=input(\"enter num\")\n",
    "if num[0]>\"5\":\n",
    "    y=int(num)\n",
    "    e=y>>2\n",
    "    print(e)"
   ]
  },
  {
   "cell_type": "code",
   "execution_count": 17,
   "metadata": {},
   "outputs": [
    {
     "name": "stdout",
     "output_type": "stream",
     "text": [
      "False\n"
     ]
    }
   ],
   "source": [
    "def  input(n):\n",
    "    if isinstance (n, int):  # Check if the number is an integer\n",
    "        if n % 2 != 0:  # Check if the number is odd\n",
    "            if n % 5 == 0:  # Check if the number is divisible by 5\n",
    "                return True\n",
    "            else:\n",
    "                return False\n",
    "        else:\n",
    "            return False\n",
    "    else:\n",
    "        return False\n",
    "\n",
    "print(input(22))\n",
    "# Test the function\n",
    " # This will return False\n"
   ]
  },
  {
   "cell_type": "code",
   "execution_count": 5,
   "metadata": {},
   "outputs": [
    {
     "name": "stdout",
     "output_type": "stream",
     "text": [
      "r\n"
     ]
    }
   ],
   "source": [
    "num = int(input())\n",
    "nam = input()\n",
    "if num > 60 and num < 125:\n",
    "    l = len(nam) // 2\n",
    "    print(nam[l])\n"
   ]
  },
  {
   "cell_type": "code",
   "execution_count": 46,
   "metadata": {},
   "outputs": [
    {
     "name": "stdout",
     "output_type": "stream",
     "text": [
      "{'h': 104}\n"
     ]
    }
   ],
   "source": [
    "i=input()\n",
    "if i>=\"A\" and i<=\"Z\":\n",
    "    j=ord(i)+32\n",
    "    d={chr(j):j}\n",
    "    print(d)"
   ]
  },
  {
   "cell_type": "code",
   "execution_count": 15,
   "metadata": {},
   "outputs": [
    {
     "name": "stdout",
     "output_type": "stream",
     "text": [
      "<class 'int'>\n",
      "85\n"
     ]
    }
   ],
   "source": [
    "i=input()\n",
    "y=ord(i)\n",
    "print(type(y))\n",
    "if y>=0 and y<=255:\n",
    "    print(int(y))"
   ]
  },
  {
   "cell_type": "code",
   "execution_count": 17,
   "metadata": {},
   "outputs": [
    {
     "name": "stdout",
     "output_type": "stream",
     "text": [
      "$ 36\n"
     ]
    }
   ],
   "source": [
    "ch=input()\n",
    "if not (ch>=\"a\" and ch<=\"z\" or ch>=\"A\" and ch<=\"Z\" or ch>=\"0\" and ch<=\"9\"):\n",
    "    print(ch,ord(ch))\n"
   ]
  },
  {
   "cell_type": "code",
   "execution_count": 21,
   "metadata": {},
   "outputs": [
    {
     "name": "stdout",
     "output_type": "stream",
     "text": [
      "tru\n"
     ]
    }
   ],
   "source": [
    "i=int(input())\n",
    "if type(i) in [int,float]:\n",
    "    print(\"tru\")"
   ]
  },
  {
   "cell_type": "code",
   "execution_count": 26,
   "metadata": {},
   "outputs": [
    {
     "name": "stdout",
     "output_type": "stream",
     "text": [
      "S\n"
     ]
    }
   ],
   "source": [
    "i=input()\n",
    "if i not in \"AEIOUaeiou\":\n",
    "    print(chr(ord(i)+1))"
   ]
  },
  {
   "cell_type": "code",
   "execution_count": 27,
   "metadata": {},
   "outputs": [
    {
     "name": "stdout",
     "output_type": "stream",
     "text": [
      "{1, 2, 3}\n"
     ]
    }
   ],
   "source": [
    "i=(1,2,3)\n",
    "if type(i) in [int,bool,str,tuple]:\n",
    "    print(set(i))"
   ]
  },
  {
   "cell_type": "code",
   "execution_count": 1,
   "metadata": {},
   "outputs": [
    {
     "name": "stdout",
     "output_type": "stream",
     "text": [
      "NOtrou\n"
     ]
    }
   ],
   "source": [
    "st = input()\n",
    "if st[0].lower() == 'n' and st[1].lower() == 'o' and st[2].lower() == 't':\n",
    "    print(st)\n",
    "else:\n",
    "    print(\"not\" + st)\n"
   ]
  },
  {
   "cell_type": "code",
   "execution_count": 6,
   "metadata": {},
   "outputs": [
    {
     "name": "stdout",
     "output_type": "stream",
     "text": [
      "notaniketh\n"
     ]
    }
   ],
   "source": [
    "st=input()\n",
    "if \"not\" in st[0:4]:\n",
    "    print(st)\n",
    "else:\n",
    "    print(\"not\"+st)"
   ]
  },
  {
   "cell_type": "code",
   "execution_count": 8,
   "metadata": {},
   "outputs": [
    {
     "name": "stdout",
     "output_type": "stream",
     "text": [
      "aniket\n"
     ]
    }
   ],
   "source": [
    "a=input()\n",
    "if len(a)%2==0:\n",
    "    l=len(a)\n",
    "    print(a[0:(l-2)])"
   ]
  },
  {
   "cell_type": "code",
   "execution_count": 11,
   "metadata": {},
   "outputs": [
    {
     "name": "stdout",
     "output_type": "stream",
     "text": [
      "@\n"
     ]
    }
   ],
   "source": [
    "s=input()\n",
    "st=s[0]\n",
    "if not 'A'<=st<=\"Z\" or 'a'<=st<='z' or '0'<=st<='9':\n",
    "    l=len(st)//2\n",
    "    print(st[l])\n",
    "else:\n",
    "    print(st[-1:l:-1])"
   ]
  },
  {
   "cell_type": "code",
   "execution_count": 4,
   "metadata": {},
   "outputs": [
    {
     "name": "stdout",
     "output_type": "stream",
     "text": [
      "p\n",
      "py\n",
      "pyt\n",
      "pyth\n",
      "pytho\n",
      "python\n"
     ]
    }
   ],
   "source": [
    "p='python'\n",
    "l=len(p)\n",
    "i=0\n",
    "while i<l:\n",
    "    print(p[0:i+1])\n",
    "    i+=1"
   ]
  },
  {
   "cell_type": "code",
   "execution_count": 6,
   "metadata": {},
   "outputs": [
    {
     "name": "stdout",
     "output_type": "stream",
     "text": [
      "1\n",
      "2\n",
      "3\n",
      "4\n",
      "5\n",
      "6\n",
      "7\n",
      "8\n",
      "9\n",
      "10\n"
     ]
    }
   ],
   "source": [
    "i=1\n",
    "while i<11:\n",
    "    print(i)\n",
    "    i+=1"
   ]
  }
 ],
 "metadata": {
  "kernelspec": {
   "display_name": "Python 3",
   "language": "python",
   "name": "python3"
  },
  "language_info": {
   "codemirror_mode": {
    "name": "ipython",
    "version": 3
   },
   "file_extension": ".py",
   "mimetype": "text/x-python",
   "name": "python",
   "nbconvert_exporter": "python",
   "pygments_lexer": "ipython3",
   "version": "3.9.0"
  }
 },
 "nbformat": 4,
 "nbformat_minor": 2
}
