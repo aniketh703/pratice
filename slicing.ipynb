{
 "cells": [
  {
   "cell_type": "code",
   "execution_count": 1,
   "metadata": {},
   "outputs": [
    {
     "name": "stdout",
     "output_type": "stream",
     "text": [
      "[1, 2]\n",
      "[3, 'jack sparrow']\n",
      "wayne\n",
      "city\n",
      "['manchester city', 'wayne rooney']\n",
      "[3, 2, 1]\n",
      "['wayne rooney', 3, 1]\n",
      "['manchester city', 'jack sparrow']\n",
      "spa\n",
      "roo\n",
      "ytic\n",
      "jack\n",
      "jk\n",
      "roe\n",
      "saow\n",
      "worraps kcaj\n"
     ]
    }
   ],
   "source": [
    "l=[1,2,3,'jack sparrow',\"wayne rooney\",\"manchester city\"]\n",
    "print(l[0:2])\n",
    "print(l[2:4])\n",
    "print(l[4][0:5])\n",
    "print(l[5][11:])\n",
    "print(l[4:6][::-1])\n",
    "print(l[-4::-1])\n",
    "print(l[-2::-2])\n",
    "print(l[-1:-4:-2])\n",
    "print(l[3][5:8])\n",
    "print(l[4][6:9])\n",
    "print(l[-1][-1:-5:-1])\n",
    "print(l[3][0:4])\n",
    "print(l[3][0:4:3])\n",
    "print(l[4][6:11:2])\n",
    "a=l[3][5:8:2]\n",
    "b=l[3][10:]\n",
    "print(a+b)\n",
    "print(l[3][::-1])\n"
   ]
  }
 ],
 "metadata": {
  "kernelspec": {
   "display_name": "Python 3",
   "language": "python",
   "name": "python3"
  },
  "language_info": {
   "codemirror_mode": {
    "name": "ipython",
    "version": 3
   },
   "file_extension": ".py",
   "mimetype": "text/x-python",
   "name": "python",
   "nbconvert_exporter": "python",
   "pygments_lexer": "ipython3",
   "version": "3.9.0"
  }
 },
 "nbformat": 4,
 "nbformat_minor": 2
}
