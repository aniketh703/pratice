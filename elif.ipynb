{
 "cells": [
  {
   "cell_type": "code",
   "execution_count": 1,
   "metadata": {},
   "outputs": [
    {
     "name": "stdout",
     "output_type": "stream",
     "text": [
      "positive\n"
     ]
    }
   ],
   "source": [
    "# +ve or -ve or zero \n",
    "num=int(input())\n",
    "if num>0:\n",
    "    print(\"positive\")\n",
    "elif num<0:\n",
    "    print(\"negative\")\n",
    "else:\n",
    "    print(\"0\")"
   ]
  },
  {
   "cell_type": "code",
   "execution_count": 2,
   "metadata": {},
   "outputs": [
    {
     "name": "stdout",
     "output_type": "stream",
     "text": [
      "even\n"
     ]
    }
   ],
   "source": [
    "#even or odd or 0\n",
    "num=int(input())\n",
    "if num==0:\n",
    "    print(\"0\")\n",
    "elif num%2==0:\n",
    "    print(\"even\")\n",
    "elif num%2!=0:\n",
    "    print(\"odd\")"
   ]
  },
  {
   "cell_type": "code",
   "execution_count": 3,
   "metadata": {},
   "outputs": [
    {
     "name": "stdout",
     "output_type": "stream",
     "text": [
      "lower case\n"
     ]
    }
   ],
   "source": [
    "#uppercase or lowercase \n",
    "ch=input()\n",
    "if ch>=\"A\" and ch<=\"Z\":\n",
    "    print(\"upper case\")\n",
    "elif ch>=\"a\" and ch<=\"z\":\n",
    "    print(\"lower case\")\n"
   ]
  },
  {
   "cell_type": "code",
   "execution_count": 10,
   "metadata": {},
   "outputs": [
    {
     "name": "stdout",
     "output_type": "stream",
     "text": [
      "Symbol\n"
     ]
    }
   ],
   "source": [
    "# alphabet or digit or symbol\n",
    "ch=input()\n",
    "if ch>=\"A\" and ch<=\"Z\" or ch>=\"a\" and ch<=\"z\":\n",
    "    print(\"Alphabet\")\n",
    "elif ch>=\"0\" and ch<=\"9\":\n",
    "    print(\"digit\")\n",
    "else:\n",
    "    print(\"Symbol\")"
   ]
  },
  {
   "cell_type": "code",
   "execution_count": 5,
   "metadata": {},
   "outputs": [
    {
     "name": "stdout",
     "output_type": "stream",
     "text": [
      "Digit\n"
     ]
    }
   ],
   "source": [
    "# uppercase or lowercase or digit\n",
    "ch=input()\n",
    "if(ch>=\"A\" and ch<=\"Z\"):\n",
    "    print(\"Upper\")\n",
    "elif (ch>=\"a\" and ch<=\"z\"):\n",
    "    print(\"lower\")\n",
    "elif (ch>=\"0\" and ch<=\"9\"):\n",
    "    print(\"Digit\")"
   ]
  },
  {
   "cell_type": "code",
   "execution_count": 6,
   "metadata": {},
   "outputs": [
    {
     "name": "stdout",
     "output_type": "stream",
     "text": [
      "FIZZBUZZ\n"
     ]
    }
   ],
   "source": [
    "# divisible by 3 (fizz) \n",
    "#divisible by 5 (buzz)\n",
    "#divisible by 5 & 3 (fizzbuzz)\n",
    "\n",
    "num=int(input())\n",
    "if num%3==0 and num%5==0:\n",
    "    print(\"FIZZBUZZ\")\n",
    "elif num%3==0:\n",
    "    print(\"FIZZ\")\n",
    "elif num%5==0:\n",
    "    print(\"BUZZ\")\n",
    "else:\n",
    "    print(num)"
   ]
  }
 ],
 "metadata": {
  "kernelspec": {
   "display_name": "Python 3",
   "language": "python",
   "name": "python3"
  },
  "language_info": {
   "codemirror_mode": {
    "name": "ipython",
    "version": 3
   },
   "file_extension": ".py",
   "mimetype": "text/x-python",
   "name": "python",
   "nbconvert_exporter": "python",
   "pygments_lexer": "ipython3",
   "version": "3.9.0"
  }
 },
 "nbformat": 4,
 "nbformat_minor": 2
}
