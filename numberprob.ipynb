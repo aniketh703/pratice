{
 "cells": [
  {
   "cell_type": "code",
   "execution_count": 2,
   "metadata": {},
   "outputs": [
    {
     "name": "stdout",
     "output_type": "stream",
     "text": [
      "6\n"
     ]
    }
   ],
   "source": [
    "a=int(input())\n",
    "sum=0\n",
    "while a!=0:\n",
    "    l=a%10\n",
    "    if l%2==0:\n",
    "        sum=sum+l\n",
    "    a=a//10\n",
    "print(sum)"
   ]
  },
  {
   "cell_type": "code",
   "execution_count": 40,
   "metadata": {},
   "outputs": [
    {
     "name": "stdout",
     "output_type": "stream",
     "text": [
      "harshed number\n"
     ]
    }
   ],
   "source": [
    "another_one=int(input())\n",
    "num=another_one\n",
    "sum=0\n",
    "while num>0:\n",
    "    l=num%10\n",
    "    sum=sum+l\n",
    "    num=num//10\n",
    "if another_one%sum==0:\n",
    "    print(\"harshed number\")\n",
    "else:\n",
    "    print(\"not harshed number\")\n"
   ]
  },
  {
   "cell_type": "code",
   "execution_count": 19,
   "metadata": {},
   "outputs": [
    {
     "name": "stdout",
     "output_type": "stream",
     "text": [
      "34\n"
     ]
    }
   ],
   "source": [
    "i=int(input())\n",
    "sum=0\n",
    "while i!=0:\n",
    "    l=i%10\n",
    "    sum=sum+l\n",
    "    i=i//10\n",
    "print(sum)"
   ]
  },
  {
   "cell_type": "code",
   "execution_count": 46,
   "metadata": {},
   "outputs": [
    {
     "name": "stdout",
     "output_type": "stream",
     "text": [
      "14\n"
     ]
    }
   ],
   "source": [
    "a=int(input())\n",
    "l=a%10\n",
    "while a>10:\n",
    "    a=a//10\n",
    "f=a \n",
    "s=l+f\n",
    "print(s)"
   ]
  },
  {
   "cell_type": "code",
   "execution_count": 24,
   "metadata": {},
   "outputs": [
    {
     "name": "stdout",
     "output_type": "stream",
     "text": [
      "3\n",
      "1\n"
     ]
    }
   ],
   "source": [
    "a=int(input())\n",
    "l=a%10\n",
    "f=a//100\n",
    "print(l)\n",
    "print(f)"
   ]
  },
  {
   "cell_type": "code",
   "execution_count": 41,
   "metadata": {},
   "outputs": [
    {
     "name": "stdout",
     "output_type": "stream",
     "text": [
      "The maximum occurring number is 2 with a count of 7.\n"
     ]
    }
   ],
   "source": [
    "num = int(input(\"Enter a number: \"))\n",
    "digits = [0] * 10\n",
    "\n",
    "while num > 0:\n",
    "    digit = num % 10\n",
    "    digits[digit] += 1\n",
    "    num //= 10\n",
    "\n",
    "max_count = max(digits)\n",
    "max_digit = digits.index(max_count)\n",
    "\n",
    "print(f\"The maximum occurring number is {max_digit} with a count of {max_count}.\")\n"
   ]
  },
  {
   "cell_type": "code",
   "execution_count": 1,
   "metadata": {},
   "outputs": [
    {
     "name": "stdout",
     "output_type": "stream",
     "text": [
      "321\n"
     ]
    }
   ],
   "source": [
    "#reverse of number \n",
    "#1\n",
    "num=int(input())\n",
    "n1=0\n",
    "s=0\n",
    "while num!=0:\n",
    "    digit=num%10\n",
    "    n1=(n1*10)+digit\n",
    "    num=num//10\n",
    "print(n1)\n"
   ]
  },
  {
   "cell_type": "code",
   "execution_count": 59,
   "metadata": {},
   "outputs": [
    {
     "name": "stdout",
     "output_type": "stream",
     "text": [
      "5776\n",
      "76 76\n",
      "automorphic\n"
     ]
    }
   ],
   "source": [
    "#In mathematics, an automorphic number is a natural number in a given number base whose square \"ends\" in the same digits as the number itself\n",
    "#3\n",
    "num=int(input())\n",
    "n=num\n",
    "c=0\n",
    "while num!=0:\n",
    "    c+=1\n",
    "    num=num//10\n",
    "p=n**2\n",
    "print(p)\n",
    "n1=n%10**c\n",
    "p1=p%10**c\n",
    "print(n1,p1)\n",
    "if n1==p1:\n",
    "    print(\"automorphic\")\n",
    "else:\n",
    "    print(\"not automorphic\")"
   ]
  },
  {
   "cell_type": "code",
   "execution_count": null,
   "metadata": {},
   "outputs": [],
   "source": [
    "#peterson number #krishna murthy number\n",
    "#4\n",
    "n=145\n",
    "n1=n\n",
    "s=0\n",
    "while n!=0:\n",
    "    digit=n%10\n",
    "    i=1\n",
    "    fact=1\n",
    "    while i<=digit:\n",
    "        fact=fact*i\n",
    "        i+=1\n",
    "    n=n//10\n",
    "    s=s+fact\n",
    "print(s)\n",
    "if (s==n1):\n",
    "    print(\"strong\")\n",
    "else:\n",
    "    print(\"not strong\")"
   ]
  },
  {
   "cell_type": "code",
   "execution_count": null,
   "metadata": {},
   "outputs": [],
   "source": [
    "#sunny number - A number N is a sunny number if N + 1 is a perfect square.\n",
    "#Perfect Squares Definition An integer that can be expressed as the square of another integer is called a perfect square. In other words, it is defined as the product of some integer with itself.\n",
    "\n"
   ]
  },
  {
   "cell_type": "code",
   "execution_count": 5,
   "metadata": {},
   "outputs": [
    {
     "name": "stdout",
     "output_type": "stream",
     "text": [
      "20 25\n",
      "45 2025\n",
      "tech\n",
      "0\n"
     ]
    }
   ],
   "source": [
    "#Tech number - A Tech number is a number that has an even number of digits and if the number is split into two equal halves(From the middle), then the square of the sum of these halves is equal to the number itself.\n",
    "#6\n",
    "num=int(input()) #2025\n",
    "n2=num\n",
    "n=num\n",
    "c=0\n",
    "while num!=0: #202 !=0\n",
    "    c+=1 # c=c+1 #2 #4\n",
    "    num//=10 #2025//10=0\n",
    "if c%2==0: #c=4\n",
    "    mid=c//2\n",
    "    f=n//10**mid #2025//10\n",
    "    l=n%10**mid #\n",
    "    n1=f+l\n",
    "    p=n1**2 #45**2=2025\n",
    "    print(f,l)\n",
    "    print(n1,p)\n",
    "    if p==n2: #2025==2025\n",
    "        print(\"tech\")\n",
    "    else:\n",
    "        print(\"not tech\")\n",
    "print(num)\n"
   ]
  },
  {
   "cell_type": "code",
   "execution_count": null,
   "metadata": {},
   "outputs": [],
   "source": [
    "#Autobiographical number - 1210\n",
    "num=int(input())\n",
    "n1=num\n",
    "while num!=0:\n",
    "    digit=num%10\n",
    "    if d==\n",
    "\n"
   ]
  },
  {
   "cell_type": "code",
   "execution_count": 55,
   "metadata": {},
   "outputs": [
    {
     "name": "stdout",
     "output_type": "stream",
     "text": [
      "composite\n"
     ]
    }
   ],
   "source": [
    "#13 \n",
    "#An Emirp Number (prime spelled backwards) is a prime number that results in a different prime when its decimal digits are reversed. \n",
    "num = int(input()) #31 #13\n",
    "n1 = num\n",
    "i = 1\n",
    "c = 0\n",
    "while i <= num:\n",
    "    if num % i == 0:\n",
    "        c += 1\n",
    "    i+= 1\n",
    "if c == 2:\n",
    "    rev = 0\n",
    "    while n1 != 0:\n",
    "        digit = n1 % 10\n",
    "        rev = rev * 10 + digit #0*10 + 1= 1 13\n",
    "        n1 = n1 // 10\n",
    "    print(rev)\n",
    "    j = 1\n",
    "    c2 = 0\n",
    "    ver = rev\n",
    "    while j <= ver:\n",
    "        if ver % j == 0:\n",
    "            c2+=1\n",
    "        j+=1\n",
    "    if c2 == c:\n",
    "        print(\"YES\")\n",
    "    else:\n",
    "        print(\"NO\")\n",
    "else:\n",
    "    print(\"composite\")\n",
    "\n"
   ]
  },
  {
   "cell_type": "code",
   "execution_count": 18,
   "metadata": {},
   "outputs": [
    {
     "name": "stdout",
     "output_type": "stream",
     "text": [
      "buzz number1\n"
     ]
    }
   ],
   "source": [
    "#buzz number - those numbers that are divisible by seven or end with seven\n",
    "#15\n",
    "num=int(input()) #27\n",
    "n1=num\n",
    "c=0\n",
    "while num!=0:\n",
    "    c+=1\n",
    "    if c<=1:\n",
    "        d=num%10\n",
    "    num=num//10 \n",
    "if d==7 or n1%7==0 :\n",
    "    print(\"buzz number\")\n",
    "else:\n",
    "    print(\"not buzz number\")\n",
    "    \n",
    "\n"
   ]
  },
  {
   "cell_type": "code",
   "execution_count": 28,
   "metadata": {},
   "outputs": [
    {
     "name": "stdout",
     "output_type": "stream",
     "text": [
      "16\n",
      "7 4\n",
      "not neon\n"
     ]
    }
   ],
   "source": [
    "#neon number\n",
    "n=int(input())\n",
    "sq=n**2\n",
    "print(sq)\n",
    "s=0\n",
    "while sq!=0:\n",
    "    digit=sq%10\n",
    "    s+=digit\n",
    "    sq=sq//10\n",
    "print(s,n)\n",
    "if s==n:\n",
    "    print(\"neon\")\n",
    "else:\n",
    "    print(\"not neon\")"
   ]
  },
  {
   "cell_type": "code",
   "execution_count": null,
   "metadata": {},
   "outputs": [],
   "source": [
    "#duck number - a positive number which has zeroes present in it , first value should not be zero\n"
   ]
  },
  {
   "cell_type": "code",
   "execution_count": 22,
   "metadata": {},
   "outputs": [
    {
     "name": "stdout",
     "output_type": "stream",
     "text": [
      "Mystery Number\n",
      "a = 11 b = 110\n",
      "No such pair exists.\n"
     ]
    }
   ],
   "source": [
    "#Mystery Number\n",
    "num = 121\n",
    "a = 1\n",
    "b = num - a\n",
    "d=0\n",
    "while a < num:\n",
    "    if a + b == num :\n",
    "        if b==a*10+d:\n",
    "            print(\"Mystery Number\")\n",
    "            print(\"a =\", a, \"b =\", b)\n",
    "        a += 1\n",
    "        b = num - a\n",
    "else:\n",
    "    print(\"No such pair exists.\")\n"
   ]
  },
  {
   "cell_type": "code",
   "execution_count": 28,
   "metadata": {},
   "outputs": [
    {
     "name": "stdout",
     "output_type": "stream",
     "text": [
      "The 2th prime number is: 3\n"
     ]
    }
   ],
   "source": [
    "#nth prime number \n",
    "n = int(input(\"Enter the value of n: \"))\n",
    "count = 0\n",
    "num = 2\n",
    "\n",
    "while count < n:\n",
    "    prime = True\n",
    "    if num < 2:\n",
    "        prime = False\n",
    "    else:\n",
    "        for i in range(2, int(num ** 0.5) + 1):\n",
    "            if num % i == 0:\n",
    "                prime = False\n",
    "                break\n",
    "\n",
    "    if prime:\n",
    "        count += 1\n",
    "\n",
    "    num += 1\n",
    "\n",
    "nth_prime_number = num - 1\n",
    "print(f\"The {n}th prime number is: {nth_prime_number}\")\n"
   ]
  },
  {
   "cell_type": "code",
   "execution_count": 3,
   "metadata": {},
   "outputs": [
    {
     "name": "stdout",
     "output_type": "stream",
     "text": [
      "9\n"
     ]
    }
   ],
   "source": [
    "#sum of digits of a number until it becomes a single digit\n",
    "n=int(input())\n",
    "sum=0\n",
    "while n!=0:\n",
    "    d=n%10\n",
    "    sum=sum+d\n",
    "    n=n//10\n",
    "    if sum<10 and n==0:\n",
    "        print(sum)\n",
    "    else:\n",
    "        n=sum\n",
    "        sum=0"
   ]
  },
  {
   "cell_type": "code",
   "execution_count": 5,
   "metadata": {},
   "outputs": [
    {
     "name": "stdout",
     "output_type": "stream",
     "text": [
      "321\n"
     ]
    }
   ],
   "source": [
    "#reverse of number\n",
    "num=int(input())\n",
    "rev=0\n",
    "while num!=0:\n",
    "    d=num%10\n",
    "    rev=rev*10+d\n",
    "    num=num//10\n",
    "print(rev)"
   ]
  },
  {
   "cell_type": "code",
   "execution_count": 10,
   "metadata": {},
   "outputs": [
    {
     "name": "stdout",
     "output_type": "stream",
     "text": [
      "armstrong\n"
     ]
    }
   ],
   "source": [
    "#370\n",
    "num=int(input())\n",
    "n1=num\n",
    "n2=num\n",
    "c=0\n",
    "while n1!=0:\n",
    "    c+=1\n",
    "    n1=n1//10\n",
    "sum=0\n",
    "while num!=0:\n",
    "    d=num%10\n",
    "    sum=sum+d**c\n",
    "    num=num//10\n",
    "if sum==n2:\n",
    "    print(sum)\n",
    "    print(\"armstrong\")\n",
    "else:\n",
    "    print(\"not armstrong\")\n",
    "\n"
   ]
  },
  {
   "cell_type": "code",
   "execution_count": 20,
   "metadata": {},
   "outputs": [
    {
     "name": "stdout",
     "output_type": "stream",
     "text": [
      "3\n",
      "b\n",
      "2\n",
      "c\n",
      "1\n",
      "d\n",
      "4\n"
     ]
    }
   ],
   "source": [
    "st=\"a3b2c1d4\"\n",
    "res=''\n",
    "i=0\n",
    "while i<len(st)-1:\n",
    "    ch=st[i]\n",
    "    ch1=st[i+1]\n",
    "    print(ch1)\n",
    "    i+=1"
   ]
  },
  {
   "cell_type": "code",
   "execution_count": 19,
   "metadata": {},
   "outputs": [
    {
     "name": "stdout",
     "output_type": "stream",
     "text": [
      "a3b1c2d1\n"
     ]
    }
   ],
   "source": [
    "st='aaabccd'\n",
    "res=\"\"\n",
    "i=0\n",
    "c=1\n",
    "while i<len(st)-1:\n",
    "    ch=st[i]\n",
    "    ch1=st[i+1]\n",
    "    if ch!=ch1:\n",
    "        res=res+ch+str(c)\n",
    "        c=1\n",
    "    else:\n",
    "        c+=1\n",
    "    i+=1\n",
    "res+=st[-1]+str(c)\n",
    "print(res)\n"
   ]
  },
  {
   "cell_type": "code",
   "execution_count": 4,
   "metadata": {},
   "outputs": [
    {
     "name": "stdout",
     "output_type": "stream",
     "text": [
      "aaabcddddddddd\n"
     ]
    }
   ],
   "source": [
    "p=\"a3b1c1d9\"\n",
    "out=\"\"\n",
    "i=0\n",
    "while i<len(p):\n",
    "    out+=p[i]*int(p[i+1])\n",
    "    i+=2\n",
    "print(out)\n"
   ]
  },
  {
   "cell_type": "code",
   "execution_count": 1,
   "metadata": {},
   "outputs": [
    {
     "name": "stdout",
     "output_type": "stream",
     "text": [
      "IKETHAN\n"
     ]
    }
   ],
   "source": [
    "#Given a string, return a \"rotated left 2\" version where the first 2 chars are moved to the end. The string length will be at least 2.\n",
    "#left2('Hello') → 'lloHe'\n",
    "#left2('java') → 'vaja'\n",
    "#left2('Hi') → 'Hi'\n",
    "st=\"ANIKETH\"\n",
    "print(st[2:]+st[:2])\n"
   ]
  },
  {
   "cell_type": "code",
   "execution_count": 4,
   "metadata": {},
   "outputs": [
    {
     "data": {
      "text/plain": [
       "False"
      ]
     },
     "execution_count": 4,
     "metadata": {},
     "output_type": "execute_result"
    }
   ],
   "source": [
    "def cigar_party(cigars, is_weekend):\n",
    "  if is_weekend:\n",
    "    return (cigars >= 40)\n",
    "  else:\n",
    "    return (cigars >= 40 and cigars <= 60)\n",
    "\n",
    "cigar_party(30, False)\n",
    "cigar_party(50, False)\n",
    "cigar_party(70, True)"
   ]
  },
  {
   "cell_type": "code",
   "execution_count": 2,
   "metadata": {},
   "outputs": [
    {
     "name": "stdout",
     "output_type": "stream",
     "text": [
      "TThhee\n"
     ]
    }
   ],
   "source": [
    "#Given a string, return a string where for every char in the original, there are two chars.\n",
    "\n",
    "\n",
    "def double_char(str):\n",
    "  res=\"\"\n",
    "  for i in str:\n",
    "    res+=i*2\n",
    "  return res\n",
    "print(double_char('The'))\n",
    "\n",
    "  "
   ]
  },
  {
   "cell_type": "code",
   "execution_count": 3,
   "metadata": {},
   "outputs": [
    {
     "data": {
      "text/plain": [
       "True"
      ]
     },
     "execution_count": 3,
     "metadata": {},
     "output_type": "execute_result"
    }
   ],
   "source": [
    "#Return True if the string \"cat\" and \"dog\" appear the same number of times in the given string.\n",
    "\n",
    "def cat_dog(str):\n",
    "  c=0\n",
    "  d=0\n",
    "  for i in range(len(str)-2):\n",
    "    if str[i:i+3]==\"cat\":\n",
    "      c+=1\n",
    "    if str[i:i+3]==\"dog\":\n",
    "      d+=1\n",
    "  return c==d\n",
    "\n",
    "cat_dog('catdog')"
   ]
  },
  {
   "cell_type": "code",
   "execution_count": 16,
   "metadata": {},
   "outputs": [
    {
     "data": {
      "text/plain": [
       "6"
      ]
     },
     "execution_count": 16,
     "metadata": {},
     "output_type": "execute_result"
    }
   ],
   "source": [
    "def fact(n):\n",
    "    prod=1\n",
    "    i=1\n",
    "    while i<=n:\n",
    "        prod=prod*i\n",
    "        i+=1\n",
    "    return prod\n",
    "fact(3)"
   ]
  },
  {
   "cell_type": "code",
   "execution_count": 32,
   "metadata": {},
   "outputs": [
    {
     "data": {
      "text/plain": [
       "21"
      ]
     },
     "execution_count": 32,
     "metadata": {},
     "output_type": "execute_result"
    }
   ],
   "source": [
    "def su(n):\n",
    "    sum=0\n",
    "    i=0\n",
    "    while n!=0:\n",
    "        digit=n%10\n",
    "        sum=sum+digit\n",
    "        n=n//10\n",
    "    return sum\n",
    "su(123456)\n",
    "\n",
    "\n"
   ]
  },
  {
   "cell_type": "code",
   "execution_count": 25,
   "metadata": {},
   "outputs": [
    {
     "data": {
      "text/plain": [
       "1"
      ]
     },
     "execution_count": 25,
     "metadata": {},
     "output_type": "execute_result"
    }
   ],
   "source": [
    "def great():\n",
    "    n=int(input())\n",
    "    min=n%10\n",
    "    while n!=0:\n",
    "        digit=n%10\n",
    "        if min>digit:\n",
    "            min=digit\n",
    "        n=n//10\n",
    "    return min\n",
    "great()"
   ]
  },
  {
   "cell_type": "code",
   "execution_count": 28,
   "metadata": {},
   "outputs": [
    {
     "data": {
      "text/plain": [
       "321"
      ]
     },
     "execution_count": 28,
     "metadata": {},
     "output_type": "execute_result"
    }
   ],
   "source": [
    "def rev():\n",
    "    n=123\n",
    "    re=0\n",
    "    while n!=0:\n",
    "        digit=n%10\n",
    "        re=re*10+digit\n",
    "        n=n//10\n",
    "    return re\n",
    "rev()\n",
    "\n"
   ]
  },
  {
   "cell_type": "code",
   "execution_count": 4,
   "metadata": {},
   "outputs": [
    {
     "data": {
      "text/plain": [
       "'not armstrong'"
      ]
     },
     "execution_count": 4,
     "metadata": {},
     "output_type": "execute_result"
    }
   ],
   "source": [
    "def Armstrong(): #153=1^3+5^3+3^3=153\n",
    "    n=int(input())\n",
    "    n1=n\n",
    "    n2=n\n",
    "    c=0\n",
    "    while n1!=0:\n",
    "        c+=1\n",
    "        n1=n1//10\n",
    "    sum=0\n",
    "    while n!=0:\n",
    "        digit=n%10\n",
    "        sum=sum+digit**c\n",
    "        n=n//10\n",
    "    if sum==n2:\n",
    "        return \"armstrong\"\n",
    "    else:\n",
    "        return \"not armstrong\"\n",
    "Armstrong()"
   ]
  },
  {
   "cell_type": "code",
   "execution_count": 5,
   "metadata": {},
   "outputs": [
    {
     "data": {
      "text/plain": [
       "'strong'"
      ]
     },
     "execution_count": 5,
     "metadata": {},
     "output_type": "execute_result"
    }
   ],
   "source": [
    "def strong():\n",
    "    n=int(input())\n",
    "    n1=n\n",
    "    su=0\n",
    "    while n!=0:\n",
    "        digit=n%10\n",
    "        i=1\n",
    "        fact=1\n",
    "        while i<=digit:\n",
    "            fact=fact*i\n",
    "            i+=1\n",
    "        n=n//10\n",
    "        su=su+fact\n",
    "    if su==n1:\n",
    "        return \"strong\"\n",
    "    else:\n",
    "        return \"not strong\"\n",
    "strong()"
   ]
  },
  {
   "cell_type": "code",
   "execution_count": 24,
   "metadata": {},
   "outputs": [
    {
     "name": "stdout",
     "output_type": "stream",
     "text": [
      "2\n",
      "3\n",
      "5\n",
      "7\n",
      "11\n",
      "13\n",
      "17\n",
      "19\n",
      "23\n",
      "29\n",
      "31\n",
      "37\n",
      "41\n",
      "43\n",
      "47\n",
      "53\n",
      "59\n",
      "61\n",
      "67\n",
      "71\n",
      "73\n",
      "79\n",
      "83\n",
      "89\n",
      "97\n"
     ]
    }
   ],
   "source": [
    "def prime(n):\n",
    "    c=0\n",
    "    i=1\n",
    "    while i<=n:\n",
    "        if n%i==0:\n",
    "            c+=1\n",
    "        i+=1\n",
    "    if c==2:\n",
    "        return True\n",
    "i=1\n",
    "n=100\n",
    "while i<=n:\n",
    "    if prime(i)==True:\n",
    "        print(i)\n",
    "    i+=1"
   ]
  },
  {
   "cell_type": "code",
   "execution_count": 13,
   "metadata": {},
   "outputs": [
    {
     "data": {
      "text/plain": [
       "True"
      ]
     },
     "execution_count": 13,
     "metadata": {},
     "output_type": "execute_result"
    }
   ],
   "source": [
    "#palindrome\n",
    "def pall():\n",
    "    n=int(input())\n",
    "    n1=n\n",
    "    re=0\n",
    "    while n!=0:\n",
    "        digit=n%10\n",
    "        re=re*10+digit\n",
    "        n=n//10\n",
    "    if re==n1:\n",
    "        return True\n",
    "    else :\n",
    "        return False\n",
    "pall()"
   ]
  },
  {
   "cell_type": "code",
   "execution_count": 16,
   "metadata": {},
   "outputs": [
    {
     "name": "stdout",
     "output_type": "stream",
     "text": [
      "not spy\n"
     ]
    }
   ],
   "source": [
    "def spy():\n",
    "    n=int(input())\n",
    "    su=0\n",
    "    prod=1\n",
    "    while n!=0:\n",
    "        digit=n%10\n",
    "        su=su+digit\n",
    "        prod=prod*digit\n",
    "        n=n//10\n",
    "    if su==prod:\n",
    "        print(\"spy\")\n",
    "    else:\n",
    "        print(\"not spy\")\n",
    "spy()"
   ]
  },
  {
   "cell_type": "code",
   "execution_count": 2,
   "metadata": {},
   "outputs": [
    {
     "name": "stdout",
     "output_type": "stream",
     "text": [
      "2\n",
      "3\n",
      "5\n",
      "7\n",
      "11\n",
      "13\n",
      "17\n",
      "19\n",
      "23\n",
      "29\n"
     ]
    }
   ],
   "source": [
    "#program to print first 100 prime numbers\n",
    "def prime(n):\n",
    "    c=0\n",
    "    i=1\n",
    "    while i<=n:\n",
    "        if n%i==0:\n",
    "            c+=1\n",
    "        i+=1\n",
    "    if c==2:\n",
    "        return True\n",
    "i=1\n",
    "n=1\n",
    "while n<=10:\n",
    "    if prime(i)==True:\n",
    "        print(i)\n",
    "        n+=1     \n",
    "    i+=1"
   ]
  },
  {
   "cell_type": "code",
   "execution_count": 48,
   "metadata": {},
   "outputs": [
    {
     "name": "stdout",
     "output_type": "stream",
     "text": [
      "perfect num\n"
     ]
    }
   ],
   "source": [
    "def perfect():\n",
    "    n=int(input())\n",
    "    i=1\n",
    "    su=0\n",
    "    while i<n:\n",
    "        if n%i==0:\n",
    "            su=su+i\n",
    "        i+=1\n",
    "    if su==n:\n",
    "        print(\"perfect num\")\n",
    "    else:\n",
    "        print(\"not perfect num\")\n",
    "perfect()"
   ]
  },
  {
   "cell_type": "code",
   "execution_count": 1,
   "metadata": {},
   "outputs": [
    {
     "data": {
      "text/plain": [
       "False"
      ]
     },
     "execution_count": 1,
     "metadata": {},
     "output_type": "execute_result"
    }
   ],
   "source": [
    "def has23(nums):\n",
    "  for i in nums:\n",
    "    if i==2 or i==3:\n",
    "      return True\n",
    "    else:\n",
    "      return False\n",
    "has23([4,3])"
   ]
  },
  {
   "cell_type": "code",
   "execution_count": 14,
   "metadata": {},
   "outputs": [
    {
     "name": "stdout",
     "output_type": "stream",
     "text": [
      "The number 145 is not perfect.\n"
     ]
    }
   ],
   "source": [
    "def isStrong(num):\n",
    "    n1 = num\n",
    "    sum = 0\n",
    "    prod = 1\n",
    "    while num != 0:\n",
    "        digit = num % 10\n",
    "        i = 1\n",
    "        while i <= digit:\n",
    "            prod = prod * i\n",
    "            i += 1\n",
    "        num = num // 10\n",
    "    if prod == n1:\n",
    "        if num % 2 == 0:\n",
    "            return True, 'even', 'strong'\n",
    "        else:\n",
    "            return False, 'not strong', 'odd'\n",
    "    else:\n",
    "        i = 1\n",
    "        while i < n1:\n",
    "            if n1 % i == 0:\n",
    "                sum = sum + i\n",
    "            i += 1\n",
    "        if sum == n1:\n",
    "            return False, 'perfect number', ''\n",
    "        else:\n",
    "            return False, 'not perfect', ''\n",
    "\n",
    "num = int(input(\"Enter a number: \"))\n",
    "strong, strength, parity = isStrong(num)\n",
    "if strong:\n",
    "    print(f\"The number {num} is {strength} and {parity}.\")\n",
    "else:\n",
    "    print(f\"The number {num} is {strength}.\")\n"
   ]
  },
  {
   "cell_type": "code",
   "execution_count": 24,
   "metadata": {},
   "outputs": [
    {
     "name": "stdout",
     "output_type": "stream",
     "text": [
      "a\n",
      "i\n",
      "e\n"
     ]
    }
   ],
   "source": [
    "def vow(st):\n",
    "    for i in st:\n",
    "        if i in \"aeiouAEIOU\":\n",
    "            print(i)\n",
    "st=input()\n",
    "vow(st)"
   ]
  },
  {
   "cell_type": "code",
   "execution_count": 23,
   "metadata": {},
   "outputs": [
    {
     "data": {
      "text/plain": [
       "9"
      ]
     },
     "execution_count": 23,
     "metadata": {},
     "output_type": "execute_result"
    }
   ],
   "source": [
    "def sumd(n):\n",
    "    sum=0\n",
    "    while n!=0:\n",
    "        digit=n%10\n",
    "        sum=sum+digit\n",
    "        n=n//10\n",
    "    return sum\n",
    "n=int(input())\n",
    "sumd(n)"
   ]
  },
  {
   "cell_type": "code",
   "execution_count": 4,
   "metadata": {},
   "outputs": [
    {
     "data": {
      "text/plain": [
       "True"
      ]
     },
     "execution_count": 4,
     "metadata": {},
     "output_type": "execute_result"
    }
   ],
   "source": [
    "def end_other(a, b):\n",
    "  a = a.lower()\n",
    "  b = b.lower()\n",
    "  return (b.endswith(a) or a.endswith(b))\n",
    "end_other('Hiabc', 'abc')"
   ]
  },
  {
   "cell_type": "code",
   "execution_count": 4,
   "metadata": {},
   "outputs": [
    {
     "data": {
      "text/plain": [
       "True"
      ]
     },
     "execution_count": 4,
     "metadata": {},
     "output_type": "execute_result"
    }
   ],
   "source": [
    "class Solution(object):\n",
    "    def isPalindrome(self, x):\n",
    "        \"\"\"\n",
    "        :type x: int\n",
    "        :rtype: bool\n",
    "        \"\"\"\n",
    "        x1=x\n",
    "        rev=0\n",
    "        while x!=0:\n",
    "            digit=x%10\n",
    "            rev=rev*10+digit\n",
    "            x=x//10\n",
    "        if rev==x1:\n",
    "            return True\n",
    "        return False\n",
    "solution = Solution()\n",
    "solution.isPalindrome(121)"
   ]
  },
  {
   "cell_type": "code",
   "execution_count": 10,
   "metadata": {},
   "outputs": [
    {
     "name": "stdout",
     "output_type": "stream",
     "text": [
      "f1\n",
      "<function f1.<locals>.f2 at 0x000001F9CB66DB80>\n",
      "f1\n",
      "f2\n",
      "None\n"
     ]
    }
   ],
   "source": [
    "def f1():\n",
    "    print(\"f1\")\n",
    "    def f2():\n",
    "        print('f2')\n",
    "    return f2\n",
    "print(f1())\n",
    "print(f1()())"
   ]
  },
  {
   "cell_type": "code",
   "execution_count": 17,
   "metadata": {},
   "outputs": [
    {
     "name": "stdout",
     "output_type": "stream",
     "text": [
      "15\n"
     ]
    }
   ],
   "source": [
    "l=[1,2,3,4,5,-3,-5,-4]\n",
    "sum=0\n",
    "for i in filter(lambda x:x>0,l):\n",
    "    sum=sum+i\n",
    "print(sum)"
   ]
  }
 ],
 "metadata": {
  "kernelspec": {
   "display_name": "Python 3",
   "language": "python",
   "name": "python3"
  },
  "language_info": {
   "codemirror_mode": {
    "name": "ipython",
    "version": 3
   },
   "file_extension": ".py",
   "mimetype": "text/x-python",
   "name": "python",
   "nbconvert_exporter": "python",
   "pygments_lexer": "ipython3",
   "version": "3.9.0"
  }
 },
 "nbformat": 4,
 "nbformat_minor": 2
}
