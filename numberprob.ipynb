{
 "cells": [
  {
   "cell_type": "code",
   "execution_count": 2,
   "metadata": {},
   "outputs": [
    {
     "name": "stdout",
     "output_type": "stream",
     "text": [
      "6\n"
     ]
    }
   ],
   "source": [
    "a=int(input())\n",
    "sum=0\n",
    "while a!=0:\n",
    "    l=a%10\n",
    "    if l%2==0:\n",
    "        sum=sum+l\n",
    "    a=a//10\n",
    "print(sum)"
   ]
  },
  {
   "cell_type": "code",
   "execution_count": 40,
   "metadata": {},
   "outputs": [
    {
     "name": "stdout",
     "output_type": "stream",
     "text": [
      "harshed number\n"
     ]
    }
   ],
   "source": [
    "another_one=int(input())\n",
    "num=another_one\n",
    "sum=0\n",
    "while num>0:\n",
    "    l=num%10\n",
    "    sum=sum+l\n",
    "    num=num//10\n",
    "if another_one%sum==0:\n",
    "    print(\"harshed number\")\n",
    "else:\n",
    "    print(\"not harshed number\")\n"
   ]
  },
  {
   "cell_type": "code",
   "execution_count": 19,
   "metadata": {},
   "outputs": [
    {
     "name": "stdout",
     "output_type": "stream",
     "text": [
      "34\n"
     ]
    }
   ],
   "source": [
    "i=int(input())\n",
    "sum=0\n",
    "while i!=0:\n",
    "    l=i%10\n",
    "    sum=sum+l\n",
    "    i=i//10\n",
    "print(sum)"
   ]
  },
  {
   "cell_type": "code",
   "execution_count": 46,
   "metadata": {},
   "outputs": [
    {
     "name": "stdout",
     "output_type": "stream",
     "text": [
      "14\n"
     ]
    }
   ],
   "source": [
    "a=int(input())\n",
    "l=a%10\n",
    "while a>10:\n",
    "    a=a//10\n",
    "f=a \n",
    "s=l+f\n",
    "print(s)"
   ]
  },
  {
   "cell_type": "code",
   "execution_count": 24,
   "metadata": {},
   "outputs": [
    {
     "name": "stdout",
     "output_type": "stream",
     "text": [
      "3\n",
      "1\n"
     ]
    }
   ],
   "source": [
    "a=int(input())\n",
    "l=a%10\n",
    "f=a//100\n",
    "print(l)\n",
    "print(f)"
   ]
  },
  {
   "cell_type": "code",
   "execution_count": 41,
   "metadata": {},
   "outputs": [
    {
     "name": "stdout",
     "output_type": "stream",
     "text": [
      "The maximum occurring number is 2 with a count of 7.\n"
     ]
    }
   ],
   "source": [
    "num = int(input(\"Enter a number: \"))\n",
    "digits = [0] * 10\n",
    "\n",
    "while num > 0:\n",
    "    digit = num % 10\n",
    "    digits[digit] += 1\n",
    "    num //= 10\n",
    "\n",
    "max_count = max(digits)\n",
    "max_digit = digits.index(max_count)\n",
    "\n",
    "print(f\"The maximum occurring number is {max_digit} with a count of {max_count}.\")\n"
   ]
  },
  {
   "cell_type": "code",
   "execution_count": 4,
   "metadata": {},
   "outputs": [
    {
     "name": "stdout",
     "output_type": "stream",
     "text": [
      "321\n"
     ]
    }
   ],
   "source": [
    "#reverse of number \n",
    "#1\n",
    "num=int(input())\n",
    "n1=0\n",
    "s=0\n",
    "while num!=0:\n",
    "    digit=num%10\n",
    "    n1=(n1*10)+digit\n",
    "    num=num//10\n",
    "print(n1)\n"
   ]
  },
  {
   "cell_type": "code",
   "execution_count": 59,
   "metadata": {},
   "outputs": [
    {
     "name": "stdout",
     "output_type": "stream",
     "text": [
      "5776\n",
      "76 76\n",
      "automorphic\n"
     ]
    }
   ],
   "source": [
    "#In mathematics, an automorphic number is a natural number in a given number base whose square \"ends\" in the same digits as the number itself\n",
    "#3\n",
    "num=int(input())\n",
    "n=num\n",
    "c=0\n",
    "while num!=0:\n",
    "    c+=1\n",
    "    num=num//10\n",
    "p=n**2\n",
    "print(p)\n",
    "n1=n%10**c\n",
    "p1=p%10**c\n",
    "print(n1,p1)\n",
    "if n1==p1:\n",
    "    print(\"automorphic\")\n",
    "else:\n",
    "    print(\"not automorphic\")"
   ]
  },
  {
   "cell_type": "code",
   "execution_count": null,
   "metadata": {},
   "outputs": [],
   "source": [
    "#peterson number #krishna murthy number\n",
    "#4\n",
    "n=145\n",
    "n1=n\n",
    "s=0\n",
    "while n!=0:\n",
    "    digit=n%10\n",
    "    i=1\n",
    "    fact=1\n",
    "    while i<=digit:\n",
    "        fact=fact*i\n",
    "        i+=1\n",
    "    n=n//10\n",
    "    s=s+fact\n",
    "print(s)\n",
    "if (s==n1):\n",
    "    print(\"strong\")\n",
    "else:\n",
    "    print(\"not strong\")"
   ]
  },
  {
   "cell_type": "code",
   "execution_count": null,
   "metadata": {},
   "outputs": [],
   "source": [
    "#sunny number - A number N is a sunny number if N + 1 is a perfect square.\n",
    "#Perfect Squares Definition An integer that can be expressed as the square of another integer is called a perfect square. In other words, it is defined as the product of some integer with itself.\n",
    "\n"
   ]
  },
  {
   "cell_type": "code",
   "execution_count": 5,
   "metadata": {},
   "outputs": [
    {
     "name": "stdout",
     "output_type": "stream",
     "text": [
      "20 25\n",
      "45 2025\n",
      "tech\n",
      "0\n"
     ]
    }
   ],
   "source": [
    "#Tech number - A Tech number is a number that has an even number of digits and if the number is split into two equal halves(From the middle), then the square of the sum of these halves is equal to the number itself.\n",
    "#6\n",
    "num=int(input()) #2025\n",
    "n2=num\n",
    "n=num\n",
    "c=0\n",
    "while num!=0: #202 !=0\n",
    "    c+=1 # c=c+1 #2 #4\n",
    "    num//=10 #2025//10=0\n",
    "if c%2==0: #c=4\n",
    "    mid=c//2\n",
    "    f=n//10**mid #2025//10\n",
    "    l=n%10**mid #\n",
    "    n1=f+l\n",
    "    p=n1**2 #45**2=2025\n",
    "    print(f,l)\n",
    "    print(n1,p)\n",
    "    if p==n2: #2025==2025\n",
    "        print(\"tech\")\n",
    "    else:\n",
    "        print(\"not tech\")\n",
    "print(num)\n"
   ]
  },
  {
   "cell_type": "code",
   "execution_count": null,
   "metadata": {},
   "outputs": [],
   "source": [
    "#Autobiographical number - 1210\n",
    "num=int(input())\n",
    "n1=num\n",
    "while num!=0:\n",
    "    digit=num%10\n",
    "    if d==\n",
    "\n"
   ]
  },
  {
   "cell_type": "code",
   "execution_count": 55,
   "metadata": {},
   "outputs": [
    {
     "name": "stdout",
     "output_type": "stream",
     "text": [
      "composite\n"
     ]
    }
   ],
   "source": [
    "#13 \n",
    "#An Emirp Number (prime spelled backwards) is a prime number that results in a different prime when its decimal digits are reversed. \n",
    "num = int(input()) #31 #13\n",
    "n1 = num\n",
    "i = 1\n",
    "c = 0\n",
    "while i <= num:\n",
    "    if num % i == 0:\n",
    "        c += 1\n",
    "    i+= 1\n",
    "if c == 2:\n",
    "    rev = 0\n",
    "    while n1 != 0:\n",
    "        digit = n1 % 10\n",
    "        rev = rev * 10 + digit #0*10 + 1= 1 13\n",
    "        n1 = n1 // 10\n",
    "    print(rev)\n",
    "    j = 1\n",
    "    c2 = 0\n",
    "    ver = rev\n",
    "    while j <= ver:\n",
    "        if ver % j == 0:\n",
    "            c2+=1\n",
    "        j+=1\n",
    "    if c2 == c:\n",
    "        print(\"YES\")\n",
    "    else:\n",
    "        print(\"NO\")\n",
    "else:\n",
    "    print(\"composite\")\n",
    "\n"
   ]
  },
  {
   "cell_type": "code",
   "execution_count": 18,
   "metadata": {},
   "outputs": [
    {
     "name": "stdout",
     "output_type": "stream",
     "text": [
      "buzz number1\n"
     ]
    }
   ],
   "source": [
    "#buzz number - those numbers that are divisible by seven or end with seven\n",
    "#15\n",
    "num=int(input()) #27\n",
    "n1=num\n",
    "c=0\n",
    "while num!=0:\n",
    "    c+=1\n",
    "    if c<=1:\n",
    "        d=num%10\n",
    "    num=num//10 \n",
    "if d==7 or n1%7==0 :\n",
    "    print(\"buzz number\")\n",
    "else:\n",
    "    print(\"not buzz number\")\n",
    "    \n",
    "\n"
   ]
  },
  {
   "cell_type": "code",
   "execution_count": 28,
   "metadata": {},
   "outputs": [
    {
     "name": "stdout",
     "output_type": "stream",
     "text": [
      "16\n",
      "7 4\n",
      "not neon\n"
     ]
    }
   ],
   "source": [
    "#neon number\n",
    "n=int(input())\n",
    "sq=n**2\n",
    "print(sq)\n",
    "s=0\n",
    "while sq!=0:\n",
    "    digit=sq%10\n",
    "    s+=digit\n",
    "    sq=sq//10\n",
    "print(s,n)\n",
    "if s==n:\n",
    "    print(\"neon\")\n",
    "else:\n",
    "    print(\"not neon\")"
   ]
  },
  {
   "cell_type": "code",
   "execution_count": null,
   "metadata": {},
   "outputs": [],
   "source": [
    "#duck number - a positive number which has zeroes present in it , first value should not be zero\n"
   ]
  },
  {
   "cell_type": "code",
   "execution_count": 22,
   "metadata": {},
   "outputs": [
    {
     "name": "stdout",
     "output_type": "stream",
     "text": [
      "Mystery Number\n",
      "a = 11 b = 110\n",
      "No such pair exists.\n"
     ]
    }
   ],
   "source": [
    "#Mystery Number\n",
    "num = 121\n",
    "a = 1\n",
    "b = num - a\n",
    "d=0\n",
    "while a < num:\n",
    "    if a + b == num :\n",
    "        if b==a*10+d:\n",
    "            print(\"Mystery Number\")\n",
    "            print(\"a =\", a, \"b =\", b)\n",
    "        a += 1\n",
    "        b = num - a\n",
    "else:\n",
    "    print(\"No such pair exists.\")\n"
   ]
  },
  {
   "cell_type": "code",
   "execution_count": 28,
   "metadata": {},
   "outputs": [
    {
     "name": "stdout",
     "output_type": "stream",
     "text": [
      "The 2th prime number is: 3\n"
     ]
    }
   ],
   "source": [
    "#nth prime number \n",
    "n = int(input(\"Enter the value of n: \"))\n",
    "count = 0\n",
    "num = 2\n",
    "\n",
    "while count < n:\n",
    "    prime = True\n",
    "    if num < 2:\n",
    "        prime = False\n",
    "    else:\n",
    "        for i in range(2, int(num ** 0.5) + 1):\n",
    "            if num % i == 0:\n",
    "                prime = False\n",
    "                break\n",
    "\n",
    "    if prime:\n",
    "        count += 1\n",
    "\n",
    "    num += 1\n",
    "\n",
    "nth_prime_number = num - 1\n",
    "print(f\"The {n}th prime number is: {nth_prime_number}\")\n"
   ]
  },
  {
   "cell_type": "code",
   "execution_count": 20,
   "metadata": {},
   "outputs": [
    {
     "name": "stdout",
     "output_type": "stream",
     "text": [
      "3\n",
      "b\n",
      "2\n",
      "c\n",
      "1\n",
      "d\n",
      "4\n"
     ]
    }
   ],
   "source": [
    "st=\"a3b2c1d4\"\n",
    "res=''\n",
    "i=0\n",
    "while i<len(st)-1:\n",
    "    ch=st[i]\n",
    "    ch1=st[i+1]\n",
    "    print(ch1)\n",
    "    i+=1"
   ]
  },
  {
   "cell_type": "code",
   "execution_count": 19,
   "metadata": {},
   "outputs": [
    {
     "name": "stdout",
     "output_type": "stream",
     "text": [
      "a3b1c2d1\n"
     ]
    }
   ],
   "source": [
    "st='aaabccd'\n",
    "res=\"\"\n",
    "i=0\n",
    "c=1\n",
    "while i<len(st)-1:\n",
    "    ch=st[i]\n",
    "    ch1=st[i+1]\n",
    "    if ch!=ch1:\n",
    "        res=res+ch+str(c)\n",
    "        c=1\n",
    "    else:\n",
    "        c+=1\n",
    "    i+=1\n",
    "res+=st[-1]+str(c)\n",
    "print(res)\n"
   ]
  }
 ],
 "metadata": {
  "kernelspec": {
   "display_name": "Python 3",
   "language": "python",
   "name": "python3"
  },
  "language_info": {
   "codemirror_mode": {
    "name": "ipython",
    "version": 3
   },
   "file_extension": ".py",
   "mimetype": "text/x-python",
   "name": "python",
   "nbconvert_exporter": "python",
   "pygments_lexer": "ipython3",
   "version": "3.9.0"
  }
 },
 "nbformat": 4,
 "nbformat_minor": 2
}
