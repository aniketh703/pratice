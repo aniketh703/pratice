{
 "cells": [
  {
   "cell_type": "code",
   "execution_count": 2,
   "metadata": {},
   "outputs": [
    {
     "name": "stdout",
     "output_type": "stream",
     "text": [
      "6\n"
     ]
    }
   ],
   "source": [
    "a=int(input())\n",
    "sum=0\n",
    "while a!=0:\n",
    "    l=a%10\n",
    "    if l%2==0:\n",
    "        sum=sum+l\n",
    "    a=a//10\n",
    "print(sum)"
   ]
  },
  {
   "cell_type": "code",
   "execution_count": 40,
   "metadata": {},
   "outputs": [
    {
     "name": "stdout",
     "output_type": "stream",
     "text": [
      "harshed number\n"
     ]
    }
   ],
   "source": [
    "another_one=int(input())\n",
    "num=another_one\n",
    "sum=0\n",
    "while num>0:\n",
    "    l=num%10\n",
    "    sum=sum+l\n",
    "    num=num//10\n",
    "if another_one%sum==0:\n",
    "    print(\"harshed number\")\n",
    "else:\n",
    "    print(\"not harshed number\")\n"
   ]
  },
  {
   "cell_type": "code",
   "execution_count": 19,
   "metadata": {},
   "outputs": [
    {
     "name": "stdout",
     "output_type": "stream",
     "text": [
      "34\n"
     ]
    }
   ],
   "source": [
    "i=int(input())\n",
    "sum=0\n",
    "while i!=0:\n",
    "    l=i%10\n",
    "    sum=sum+l\n",
    "    i=i//10\n",
    "print(sum)"
   ]
  },
  {
   "cell_type": "code",
   "execution_count": 46,
   "metadata": {},
   "outputs": [
    {
     "name": "stdout",
     "output_type": "stream",
     "text": [
      "14\n"
     ]
    }
   ],
   "source": [
    "a=int(input())\n",
    "l=a%10\n",
    "while a>10:\n",
    "    a=a//10\n",
    "f=a \n",
    "s=l+f\n",
    "print(s)"
   ]
  },
  {
   "cell_type": "code",
   "execution_count": 24,
   "metadata": {},
   "outputs": [
    {
     "name": "stdout",
     "output_type": "stream",
     "text": [
      "3\n",
      "1\n"
     ]
    }
   ],
   "source": [
    "a=int(input())\n",
    "l=a%10\n",
    "f=a//100\n",
    "print(l)\n",
    "print(f)"
   ]
  },
  {
   "cell_type": "code",
   "execution_count": 41,
   "metadata": {},
   "outputs": [
    {
     "name": "stdout",
     "output_type": "stream",
     "text": [
      "The maximum occurring number is 2 with a count of 7.\n"
     ]
    }
   ],
   "source": [
    "num = int(input(\"Enter a number: \"))\n",
    "digits = [0] * 10\n",
    "\n",
    "while num > 0:\n",
    "    digit = num % 10\n",
    "    digits[digit] += 1\n",
    "    num //= 10\n",
    "\n",
    "max_count = max(digits)\n",
    "max_digit = digits.index(max_count)\n",
    "\n",
    "print(f\"The maximum occurring number is {max_digit} with a count of {max_count}.\")\n"
   ]
  }
 ],
 "metadata": {
  "kernelspec": {
   "display_name": "Python 3",
   "language": "python",
   "name": "python3"
  },
  "language_info": {
   "codemirror_mode": {
    "name": "ipython",
    "version": 3
   },
   "file_extension": ".py",
   "mimetype": "text/x-python",
   "name": "python",
   "nbconvert_exporter": "python",
   "pygments_lexer": "ipython3",
   "version": "3.9.0"
  }
 },
 "nbformat": 4,
 "nbformat_minor": 2
}
