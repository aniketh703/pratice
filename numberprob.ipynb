{
 "cells": [
  {
   "cell_type": "code",
   "execution_count": 2,
   "metadata": {},
   "outputs": [
    {
     "name": "stdout",
     "output_type": "stream",
     "text": [
      "6\n"
     ]
    }
   ],
   "source": [
    "a=int(input())\n",
    "sum=0\n",
    "while a!=0:\n",
    "    l=a%10\n",
    "    if l%2==0:\n",
    "        sum=sum+l\n",
    "    a=a//10\n",
    "print(sum)"
   ]
  },
  {
   "cell_type": "code",
   "execution_count": 15,
   "metadata": {},
   "outputs": [
    {
     "name": "stdout",
     "output_type": "stream",
     "text": [
      "harshed number\n"
     ]
    }
   ],
   "source": [
    "another_one=int(input())\n",
    "num=another_one\n",
    "sum=0\n",
    "while num>0:\n",
    "    l=num%10\n",
    "    sum=sum+l\n",
    "    num=num//10\n",
    "if another_one%sum==0:\n",
    "    print(\"harshed number\")\n",
    "else:\n",
    "    print(\"not harshed number\")\n"
   ]
  },
  {
   "cell_type": "code",
   "execution_count": 19,
   "metadata": {},
   "outputs": [
    {
     "name": "stdout",
     "output_type": "stream",
     "text": [
      "34\n"
     ]
    }
   ],
   "source": [
    "i=int(input())\n",
    "sum=0\n",
    "while i!=0:\n",
    "    l=i%10\n",
    "    sum=sum+l\n",
    "    i=i//10\n",
    "print(sum)"
   ]
  },
  {
   "cell_type": "code",
   "execution_count": null,
   "metadata": {},
   "outputs": [],
   "source": []
  }
 ],
 "metadata": {
  "kernelspec": {
   "display_name": "Python 3",
   "language": "python",
   "name": "python3"
  },
  "language_info": {
   "codemirror_mode": {
    "name": "ipython",
    "version": 3
   },
   "file_extension": ".py",
   "mimetype": "text/x-python",
   "name": "python",
   "nbconvert_exporter": "python",
   "pygments_lexer": "ipython3",
   "version": "3.9.0"
  }
 },
 "nbformat": 4,
 "nbformat_minor": 2
}
