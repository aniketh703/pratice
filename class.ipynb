{
 "cells": [
  {
   "cell_type": "code",
   "execution_count": 1,
   "metadata": {},
   "outputs": [
    {
     "name": "stdout",
     "output_type": "stream",
     "text": [
      "Team B wins\n"
     ]
    }
   ],
   "source": [
    "user_input = input(\"Enter an integer: \")\n",
    "user_integer = int(user_input)\n",
    "string = 'a' * user_integer + 'b' * user_integer\n",
    "\n",
    "if string.count('a') > string.count('b'):\n",
    "    print(\"Team A wins\")\n",
    "else:\n",
    "    print(\"Team B wins\")"
   ]
  },
  {
   "cell_type": "code",
   "execution_count": 6,
   "metadata": {},
   "outputs": [
    {
     "name": "stdout",
     "output_type": "stream",
     "text": [
      "not same\n"
     ]
    }
   ],
   "source": [
    "#mid char of given string and string length are same or not\n",
    "st=input()\n",
    "le=len(st)\n",
    "mid=le//2\n",
    "ch=str(le)\n",
    "ch1=str(mid)\n",
    "if ord(ch)==ord(ch1):\n",
    "    print(\"same\")\n",
    "else:\n",
    "    print(\"not same\")"
   ]
  },
  {
   "cell_type": "code",
   "execution_count": 13,
   "metadata": {},
   "outputs": [
    {
     "name": "stdout",
     "output_type": "stream",
     "text": [
      "65\n",
      "successfully done\n"
     ]
    }
   ],
   "source": [
    "# WAPTCW print ascii value of last character in given string , check the same ascii value is in b/w 50 - 75 exclusive\n",
    "#if it is in between 50 - 75 then print (successfully done)\n",
    "\n",
    "st=input()\n",
    "las=ord(st[0])\n",
    "print(las)\n",
    "if las>50 and las<75:\n",
    "    print(\"successfully done\")"
   ]
  },
  {
   "cell_type": "code",
   "execution_count": 18,
   "metadata": {},
   "outputs": [
    {
     "name": "stdout",
     "output_type": "stream",
     "text": [
      "[1, 2]\n",
      "[3, 'jack sparrow']\n",
      "wayne\n",
      "city\n",
      "['manchester city', 'wayne rooney']\n",
      "[3, 2, 1]\n",
      "['wayne rooney', 3, 1]\n",
      "['manchester city', 'jack sparrow']\n",
      "spa\n",
      "roo\n",
      "ytic\n",
      "jack\n",
      "jk\n",
      "roe\n",
      "saow\n",
      "worraps kcaj\n"
     ]
    }
   ],
   "source": [
    "l=[1,2,3,'jack sparrow',\"wayne rooney\",\"manchester city\"]\n",
    "print(l[0:2])\n",
    "print(l[2:4])\n",
    "print(l[4][0:5])\n",
    "print(l[5][11:])\n",
    "print(l[4:6][::-1])\n",
    "print(l[-4::-1])\n",
    "print(l[-2::-2])\n",
    "print(l[-1:-4:-2])\n",
    "print(l[3][5:8])\n",
    "print(l[4][6:9])\n",
    "print(l[-1][-1:-5:-1])\n",
    "print(l[3][0:4])\n",
    "print(l[3][0:4:3])\n",
    "print(l[4][6:11:2])\n",
    "a=l[3][5:8:2]\n",
    "b=l[3][10:]\n",
    "print(a+b)\n",
    "print(l[3][::-1])\n"
   ]
  },
  {
   "cell_type": "code",
   "execution_count": 19,
   "metadata": {},
   "outputs": [
    {
     "name": "stdout",
     "output_type": "stream",
     "text": [
      "jor\n",
      "will\n"
     ]
    }
   ],
   "source": [
    "l=['jordan','will blake',[300,200,40,'james wilson'],{1:{'name':\"mason mount\",'age':24,'club':\"chelsen\"}}]\n",
    "print(l[0][0:3])\n",
    "print(l[1][0:4])"
   ]
  }
 ],
 "metadata": {
  "kernelspec": {
   "display_name": "Python 3",
   "language": "python",
   "name": "python3"
  },
  "language_info": {
   "codemirror_mode": {
    "name": "ipython",
    "version": 3
   },
   "file_extension": ".py",
   "mimetype": "text/x-python",
   "name": "python",
   "nbconvert_exporter": "python",
   "pygments_lexer": "ipython3",
   "version": "3.9.0"
  }
 },
 "nbformat": 4,
 "nbformat_minor": 2
}
