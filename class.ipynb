{
 "cells": [
  {
   "cell_type": "code",
   "execution_count": 1,
   "metadata": {},
   "outputs": [
    {
     "name": "stdout",
     "output_type": "stream",
     "text": [
      "Team B wins\n"
     ]
    }
   ],
   "source": [
    "user_input = input(\"Enter an integer: \")\n",
    "user_integer = int(user_input)\n",
    "string = 'a' * user_integer + 'b' * user_integer\n",
    "\n",
    "if string.count('a') > string.count('b'):\n",
    "    print(\"Team A wins\")\n",
    "else:\n",
    "    print(\"Team B wins\")"
   ]
  },
  {
   "cell_type": "code",
   "execution_count": 6,
   "metadata": {},
   "outputs": [
    {
     "name": "stdout",
     "output_type": "stream",
     "text": [
      "not same\n"
     ]
    }
   ],
   "source": [
    "#mid char of given string and string length are same or not\n",
    "st=input()\n",
    "le=len(st)\n",
    "mid=le//2\n",
    "ch=str(le)\n",
    "ch1=str(mid)\n",
    "if ord(ch)==ord(ch1):\n",
    "    print(\"same\")\n",
    "else:\n",
    "    print(\"not same\")"
   ]
  },
  {
   "cell_type": "code",
   "execution_count": 13,
   "metadata": {},
   "outputs": [
    {
     "name": "stdout",
     "output_type": "stream",
     "text": [
      "65\n",
      "successfully done\n"
     ]
    }
   ],
   "source": [
    "# WAPTCW print ascii value of last character in given string , check the same ascii value is in b/w 50 - 75 exclusive\n",
    "#if it is in between 50 - 75 then print (successfully done)\n",
    "\n",
    "st=input()\n",
    "las=ord(st[0])\n",
    "print(las)\n",
    "if las>50 and las<75:\n",
    "    print(\"successfully done\")"
   ]
  }
 ],
 "metadata": {
  "kernelspec": {
   "display_name": "Python 3",
   "language": "python",
   "name": "python3"
  },
  "language_info": {
   "codemirror_mode": {
    "name": "ipython",
    "version": 3
   },
   "file_extension": ".py",
   "mimetype": "text/x-python",
   "name": "python",
   "nbconvert_exporter": "python",
   "pygments_lexer": "ipython3",
   "version": "3.9.0"
  }
 },
 "nbformat": 4,
 "nbformat_minor": 2
}
