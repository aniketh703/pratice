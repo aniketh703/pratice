{
 "cells": [
  {
   "cell_type": "code",
   "execution_count": 16,
   "metadata": {},
   "outputs": [
    {
     "name": "stdout",
     "output_type": "stream",
     "text": [
      "420\n"
     ]
    }
   ],
   "source": [
    "l=[1,25,420,89,54]\n",
    "i=0\n",
    "gt=l[-1]\n",
    "while i<len(l):\n",
    "    if gt<l[i]:\n",
    "        gt=l[i]\n",
    "    i+=1\n",
    "print(gt)"
   ]
  },
  {
   "cell_type": "code",
   "execution_count": 18,
   "metadata": {},
   "outputs": [
    {
     "name": "stdout",
     "output_type": "stream",
     "text": [
      "445\n"
     ]
    }
   ],
   "source": [
    "l=[67,25,420,89,54]\n",
    "i=0\n",
    "gt=l[-1]\n",
    "lt=l[0]\n",
    "while i<len(l):\n",
    "    if gt<l[i]:\n",
    "        gt=l[i]\n",
    "    if lt>l[i]:\n",
    "        lt=l[i]\n",
    "    i+=1\n",
    "print(gt+lt)"
   ]
  },
  {
   "cell_type": "code",
   "execution_count": 21,
   "metadata": {},
   "outputs": [
    {
     "name": "stdout",
     "output_type": "stream",
     "text": [
      "Cap A\n",
      "Cap K\n",
      "Cap E\n"
     ]
    }
   ],
   "source": [
    "#while to print upper case alphabets\n",
    "st='AniKEth'\n",
    "i=0\n",
    "while i<len(st):\n",
    "    if st[i]>=\"A\" and st[i]<=\"Z\":\n",
    "        print(\"Cap\",st[i])\n",
    "    i+=1\n",
    "\n"
   ]
  },
  {
   "cell_type": "code",
   "execution_count": 25,
   "metadata": {},
   "outputs": [
    {
     "name": "stdout",
     "output_type": "stream",
     "text": [
      "odd lower cased string w\n",
      "odd lower cased string a\n",
      "odd lower cased string d\n",
      "odd lower cased string a\n"
     ]
    }
   ],
   "source": [
    "#odd index lower cased ch in a string\n",
    "st=input()\n",
    "i=0\n",
    "while i<len(st):\n",
    "    if st[i]>='a' and st[i]<=\"z\" and i%2==1:\n",
    "        print(\"odd lower cased string\" , st[i])\n",
    "    i+=1"
   ]
  },
  {
   "cell_type": "code",
   "execution_count": 27,
   "metadata": {},
   "outputs": [
    {
     "name": "stdout",
     "output_type": "stream",
     "text": [
      "Vowel o\n"
     ]
    }
   ],
   "source": [
    "#vowels in given string\n",
    "st=input()\n",
    "i=0\n",
    "while i<len(st):\n",
    "    if st[i] in \"AEIOUaeiou\":\n",
    "        print(\"Vowel\",st[i])\n",
    "    i+=1\n"
   ]
  },
  {
   "cell_type": "code",
   "execution_count": 28,
   "metadata": {},
   "outputs": [
    {
     "name": "stdout",
     "output_type": "stream",
     "text": [
      "consonants n\n",
      "consonants k\n",
      "consonants t\n"
     ]
    }
   ],
   "source": [
    "#odd index consonants\n",
    "st=input()\n",
    "i=0\n",
    "while i<len(st):\n",
    "    if i%2==1 and st[i]>=\"a\" and st[i]<='z' or st[i]>=\"A\" and st[i]<='Z' and st[i] not in \"AEIOUaeiou\":\n",
    "        print(\"consonant\",st[i])\n",
    "    i+=1\n"
   ]
  },
  {
   "cell_type": "code",
   "execution_count": 34,
   "metadata": {},
   "outputs": [
    {
     "name": "stdout",
     "output_type": "stream",
     "text": [
      "1\n",
      "2\n",
      "3\n",
      "4\n",
      "5\n",
      "6\n",
      "7\n",
      "8\n",
      "9\n",
      "0\n"
     ]
    }
   ],
   "source": [
    "#WAP to print given elements in string\n",
    "l=list(input())\n",
    "i=0\n",
    "while i<len(l):\n",
    "    print(l[i])\n",
    "    i+=1\n",
    "\n"
   ]
  },
  {
   "cell_type": "code",
   "execution_count": 37,
   "metadata": {},
   "outputs": [
    {
     "name": "stdout",
     "output_type": "stream",
     "text": [
      "2\n",
      "4\n",
      "6\n"
     ]
    }
   ],
   "source": [
    "#odd element in given list\n",
    "l=list(input())\n",
    "i=0\n",
    "while i<len(l):\n",
    "    if i%2==1:\n",
    "        print(l[i])\n",
    "    i+=1"
   ]
  },
  {
   "cell_type": "code",
   "execution_count": null,
   "metadata": {},
   "outputs": [],
   "source": [
    "l=[1,33,4,45,444]\n",
    "i=0\n",
    "s=0\n",
    "while "
   ]
  }
 ],
 "metadata": {
  "kernelspec": {
   "display_name": "Python 3",
   "language": "python",
   "name": "python3"
  },
  "language_info": {
   "codemirror_mode": {
    "name": "ipython",
    "version": 3
   },
   "file_extension": ".py",
   "mimetype": "text/x-python",
   "name": "python",
   "nbconvert_exporter": "python",
   "pygments_lexer": "ipython3",
   "version": "3.9.0"
  }
 },
 "nbformat": 4,
 "nbformat_minor": 2
}
