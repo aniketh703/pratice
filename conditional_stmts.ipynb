{
 "cells": [
  {
   "cell_type": "code",
   "execution_count": 42,
   "metadata": {},
   "outputs": [
    {
     "name": "stdout",
     "output_type": "stream",
     "text": [
      "Hello Good morning\n"
     ]
    }
   ],
   "source": [
    "num=3\n",
    "if num>2:\n",
    "    print(\"Hello Good morning\")"
   ]
  },
  {
   "cell_type": "code",
   "execution_count": 43,
   "metadata": {},
   "outputs": [
    {
     "name": "stdout",
     "output_type": "stream",
     "text": [
      "41\n",
      "37\n",
      "78\n",
      "19.5\n",
      "19\n",
      "1\n",
      "1521\n"
     ]
    }
   ],
   "source": [
    "num=39\n",
    "if num>=30 and num<=40:\n",
    "    print(num+2)\n",
    "    print(num-2)\n",
    "    print(num*2)\n",
    "    print(num/2)\n",
    "    print(num//2)\n",
    "    print(num%2)\n",
    "    print(num**2)"
   ]
  },
  {
   "cell_type": "code",
   "execution_count": 46,
   "metadata": {},
   "outputs": [
    {
     "name": "stdout",
     "output_type": "stream",
     "text": [
      "35\n"
     ]
    }
   ],
   "source": [
    "num=15\n",
    "if num%3==0:\n",
    "    num+=20\n",
    "print(num)"
   ]
  },
  {
   "cell_type": "code",
   "execution_count": 47,
   "metadata": {},
   "outputs": [
    {
     "name": "stdout",
     "output_type": "stream",
     "text": [
      "44\n"
     ]
    }
   ],
   "source": [
    "num=22\n",
    "if num%2==0 and num>20:\n",
    "    print(2*num)\n",
    "else:\n",
    "    print(num)"
   ]
  },
  {
   "cell_type": "code",
   "execution_count": 27,
   "metadata": {},
   "outputs": [
    {
     "name": "stdout",
     "output_type": "stream",
     "text": [
      "110\n"
     ]
    }
   ],
   "source": [
    "ch=\"n\"\n",
    "if ch>=\"A\" and ch<=\"Z\" or ch>=\"a\" and ch<=\"z\":\n",
    "    print(ord(ch))\n",
    "\n"
   ]
  },
  {
   "cell_type": "code",
   "execution_count": 45,
   "metadata": {},
   "outputs": [
    {
     "name": "stdout",
     "output_type": "stream",
     "text": [
      "N\n"
     ]
    }
   ],
   "source": [
    "ch=\"n\"\n",
    "if ch>=\"a\" and ch<=\"z\":\n",
    "    print(ch.upper())"
   ]
  },
  {
   "cell_type": "code",
   "execution_count": 29,
   "metadata": {},
   "outputs": [
    {
     "name": "stdout",
     "output_type": "stream",
     "text": [
      "5\n"
     ]
    }
   ],
   "source": [
    "ch=\"7\"\n",
    "if ch>=\"0\" and ch<=\"9\":\n",
    "    print(ord(ch)%10)\n"
   ]
  },
  {
   "cell_type": "code",
   "execution_count": 39,
   "metadata": {},
   "outputs": [
    {
     "name": "stdout",
     "output_type": "stream",
     "text": [
      "Eligible to vote 21\n"
     ]
    }
   ],
   "source": [
    "a=21\n",
    "b=4\n",
    "if a>18:\n",
    "    print(\"Eligible to vote\",a)\n",
    "if b>18:\n",
    "    print(\"elgible\",b)"
   ]
  },
  {
   "cell_type": "code",
   "execution_count": 40,
   "metadata": {},
   "outputs": [
    {
     "name": "stdout",
     "output_type": "stream",
     "text": [
      "eligible for love\n"
     ]
    }
   ],
   "source": [
    "love1=22\n",
    "love2=23\n",
    "if (love1>21 and love2>21):\n",
    "    print(\"eligible for love\")"
   ]
  }
 ],
 "metadata": {
  "kernelspec": {
   "display_name": "Python 3",
   "language": "python",
   "name": "python3"
  },
  "language_info": {
   "codemirror_mode": {
    "name": "ipython",
    "version": 3
   },
   "file_extension": ".py",
   "mimetype": "text/x-python",
   "name": "python",
   "nbconvert_exporter": "python",
   "pygments_lexer": "ipython3",
   "version": "3.9.0"
  }
 },
 "nbformat": 4,
 "nbformat_minor": 2
}
