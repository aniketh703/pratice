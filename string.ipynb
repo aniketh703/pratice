{
 "cells": [
  {
   "cell_type": "code",
   "execution_count": 11,
   "metadata": {},
   "outputs": [
    {
     "name": "stdout",
     "output_type": "stream",
     "text": [
      "a -2\n"
     ]
    }
   ],
   "source": [
    "#last occurrence\n",
    "t=input()\n",
    "ch=\"a\"\n",
    "c=0\n",
    "i=-1\n",
    "while i > -len(t)+1:\n",
    "    s=t[i]\n",
    "    if s==ch:\n",
    "        c+=1\n",
    "        if c==1:\n",
    "            print(t[i],i)\n",
    "    i-=1\n"
   ]
  },
  {
   "cell_type": "code",
   "execution_count": 18,
   "metadata": {},
   "outputs": [],
   "source": [
    "\n",
    "#first occurrence\n",
    "t=input()\n",
    "ch=\"k\"\n",
    "i=1\n",
    "c=0\n",
    "for j in t:\n",
    "    if ch==j:\n",
    "        c+=1\n",
    "        if c==1:\n",
    "            print(ch,i)\n",
    "    i+=1"
   ]
  },
  {
   "cell_type": "code",
   "execution_count": 4,
   "metadata": {},
   "outputs": [
    {
     "name": "stdout",
     "output_type": "stream",
     "text": [
      "e 9\n"
     ]
    }
   ],
   "source": [
    "#not first occurrence\n",
    "t=input()\n",
    "ch=\"e\"\n",
    "i=1\n",
    "c=0\n",
    "for j in t:\n",
    "    if ch==j:\n",
    "        c+=1\n",
    "        if c==2:\n",
    "            print(ch,i)\n",
    "    i+=1"
   ]
  },
  {
   "cell_type": "code",
   "execution_count": 14,
   "metadata": {},
   "outputs": [
    {
     "name": "stdout",
     "output_type": "stream",
     "text": [
      "a -6\n"
     ]
    }
   ],
   "source": [
    "# not last occurrence\n",
    "t=input(\"please enter the string:\")\n",
    "ch=input(\"please enter the single character to check:\")\n",
    "c=0\n",
    "i=-1\n",
    "while i > -len(t)+1:\n",
    "    s=t[i]\n",
    "    if s==ch:\n",
    "        c+=1\n",
    "        if c==2:\n",
    "            print(t[i],i)\n",
    "    i-=1\n"
   ]
  },
  {
   "cell_type": "code",
   "execution_count": 18,
   "metadata": {},
   "outputs": [
    {
     "name": "stdout",
     "output_type": "stream",
     "text": [
      "aniiek\n"
     ]
    }
   ],
   "source": [
    "\n",
    "#remove first occurrence\n",
    "t=input()\n",
    "ch=\"k\"\n",
    "i=1\n",
    "c=0\n",
    "for j in t:\n",
    "    if ch==j:\n",
    "        c+=1\n",
    "        if c==1:\n",
    "            print(t[:i-1]+t[i:])\n",
    "    i+=1"
   ]
  },
  {
   "cell_type": "code",
   "execution_count": 22,
   "metadata": {},
   "outputs": [
    {
     "name": "stdout",
     "output_type": "stream",
     "text": [
      "anikie\n"
     ]
    }
   ],
   "source": [
    "# not last occurrence\n",
    "t=input(\"please enter the string:\")\n",
    "ch=input(\"please enter the single character to check:\")\n",
    "c=0\n",
    "i=-1\n",
    "while i > -len(t)+1:\n",
    "    s=t[i]\n",
    "    if s==ch:\n",
    "        c+=1\n",
    "        if c==1:\n",
    "            print(t[:i]+t[i+1:]\n",
    "    i-=1\n"
   ]
  }
 ],
 "metadata": {
  "kernelspec": {
   "display_name": "Python 3",
   "language": "python",
   "name": "python3"
  },
  "language_info": {
   "codemirror_mode": {
    "name": "ipython",
    "version": 3
   },
   "file_extension": ".py",
   "mimetype": "text/x-python",
   "name": "python",
   "nbconvert_exporter": "python",
   "pygments_lexer": "ipython3",
   "version": "3.9.0"
  }
 },
 "nbformat": 4,
 "nbformat_minor": 2
}
