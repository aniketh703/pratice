{
 "cells": [
  {
   "cell_type": "code",
   "execution_count": 18,
   "metadata": {},
   "outputs": [
    {
     "name": "stdout",
     "output_type": "stream",
     "text": [
      "a -1\n"
     ]
    }
   ],
   "source": [
    "#last occurrence\n",
    "t=input()\n",
    "ch=\"a\"\n",
    "c=0\n",
    "i=-1\n",
    "while i > -len(t)+1:\n",
    "    s=t[i]\n",
    "    if s==ch:\n",
    "        c+=1\n",
    "        if c==1:\n",
    "            print(t[i],i)\n",
    "    i-=1\n"
   ]
  },
  {
   "cell_type": "code",
   "execution_count": 19,
   "metadata": {},
   "outputs": [
    {
     "name": "stdout",
     "output_type": "stream",
     "text": [
      "k 4\n"
     ]
    }
   ],
   "source": [
    "\n",
    "#first occurrence\n",
    "t=input()\n",
    "ch=\"k\"\n",
    "i=1\n",
    "c=0\n",
    "for j in t:\n",
    "    if ch==j:\n",
    "        c+=1\n",
    "        if c==1:\n",
    "            print(ch,i)\n",
    "    i+=1"
   ]
  },
  {
   "cell_type": "code",
   "execution_count": 26,
   "metadata": {},
   "outputs": [
    {
     "name": "stdout",
     "output_type": "stream",
     "text": [
      "e 11\n"
     ]
    }
   ],
   "source": [
    "#not first occurrence\n",
    "t=input()\n",
    "ch=\"e\"\n",
    "i=1\n",
    "c=0\n",
    "for j in t:\n",
    "    if ch==j:\n",
    "        c+=1\n",
    "        if c==2:\n",
    "            print(ch,i)\n",
    "    i+=1"
   ]
  },
  {
   "cell_type": "code",
   "execution_count": 25,
   "metadata": {},
   "outputs": [
    {
     "name": "stdout",
     "output_type": "stream",
     "text": [
      "k -3\n"
     ]
    }
   ],
   "source": [
    "# not last occurrence\n",
    "t=input(\"please enter the string:\")\n",
    "ch=input(\"please enter the single character to check:\")\n",
    "c=0\n",
    "i=-1\n",
    "while i > -len(t)+1:\n",
    "    s=t[i]\n",
    "    if s==ch:\n",
    "        c+=1\n",
    "        if c==2:\n",
    "            print(t[i],i)\n",
    "    i-=1\n"
   ]
  },
  {
   "cell_type": "code",
   "execution_count": 24,
   "metadata": {},
   "outputs": [
    {
     "name": "stdout",
     "output_type": "stream",
     "text": [
      "yinhdakk\n"
     ]
    }
   ],
   "source": [
    "\n",
    "#remove first occurrence\n",
    "t=input()\n",
    "ch=\"k\"\n",
    "i=1\n",
    "c=0\n",
    "for j in t:\n",
    "    if ch==j:\n",
    "        c+=1\n",
    "        if c==1:\n",
    "            print(t[:i-1]+t[i:])\n",
    "    i+=1"
   ]
  },
  {
   "cell_type": "code",
   "execution_count": 23,
   "metadata": {},
   "outputs": [
    {
     "name": "stdout",
     "output_type": "stream",
     "text": [
      "nikrnfanikrnfaa\n"
     ]
    }
   ],
   "source": [
    "#remove last occurrence\n",
    "t=input(\"please enter the string:\")\n",
    "ch=input(\"please enter the single character to check:\")\n",
    "c=0\n",
    "i=-1\n",
    "while i > -len(t)+1:\n",
    "    s=t[i]\n",
    "    if s==ch:\n",
    "        c+=1\n",
    "        if c==1:\n",
    "            print(t[:i]+t[i+1:])\n",
    "    i-=1\n"
   ]
  },
  {
   "cell_type": "code",
   "execution_count": 22,
   "metadata": {},
   "outputs": [
    {
     "name": "stdout",
     "output_type": "stream",
     "text": [
      "2 a\n"
     ]
    }
   ],
   "source": [
    "#count of occurrence of specific character\n",
    "t=input()\n",
    "ch=input()\n",
    "c=0\n",
    "for j in t:\n",
    "    if j==ch:\n",
    "        c+=1\n",
    "print(c,ch)\n"
   ]
  },
  {
   "cell_type": "code",
   "execution_count": 21,
   "metadata": {},
   "outputs": [
    {
     "name": "stdout",
     "output_type": "stream",
     "text": [
      "Max occurrence of a character in the given string: 2 a\n"
     ]
    }
   ],
   "source": [
    "st = input(\"Enter a string: \")\n",
    "max_count = 0\n",
    "current_count = 1\n",
    "\n",
    "for i in range(len(st) - 1):\n",
    "    if st[i] == st[i + 1]:\n",
    "        current_count += 1\n",
    "    else:\n",
    "        if current_count > max_count:\n",
    "            max_count = current_count\n",
    "            max_char = st[i]\n",
    "        current_count = 1\n",
    "if current_count > max_count:\n",
    "    max_count = current_count\n",
    "\n",
    "print(\"Max occurrence of a character in the given string:\", max_count,max_char)\n"
   ]
  },
  {
   "cell_type": "code",
   "execution_count": 20,
   "metadata": {},
   "outputs": [
    {
     "ename": "TypeError",
     "evalue": "can only concatenate str (not \"int\") to str",
     "output_type": "error",
     "traceback": [
      "\u001b[1;31m---------------------------------------------------------------------------\u001b[0m",
      "\u001b[1;31mTypeError\u001b[0m                                 Traceback (most recent call last)",
      "Cell \u001b[1;32mIn[20], line 17\u001b[0m\n\u001b[0;32m     15\u001b[0m             res\u001b[38;5;241m=\u001b[39mres\u001b[38;5;241m+\u001b[39mj\n\u001b[0;32m     16\u001b[0m \u001b[38;5;28;01mif\u001b[39;00m c\u001b[38;5;241m==\u001b[39m\u001b[38;5;241m2\u001b[39m \u001b[38;5;129;01mor\u001b[39;00m c\u001b[38;5;241m==\u001b[39m\u001b[38;5;241m4\u001b[39m:\n\u001b[1;32m---> 17\u001b[0m     l\u001b[38;5;241m=\u001b[39mst[\u001b[43mch1\u001b[49m\u001b[38;5;241;43m+\u001b[39;49m\u001b[38;5;241;43m1\u001b[39;49m:i\u001b[38;5;241m+\u001b[39m\u001b[38;5;241m1\u001b[39m]\n\u001b[0;32m     18\u001b[0m     \u001b[38;5;28;01mfor\u001b[39;00m k \u001b[38;5;129;01min\u001b[39;00m l:  \n\u001b[0;32m     19\u001b[0m         res\u001b[38;5;241m=\u001b[39mres\u001b[38;5;241m+\u001b[39mk  \n",
      "\u001b[1;31mTypeError\u001b[0m: can only concatenate str (not \"int\") to str"
     ]
    }
   ],
   "source": [
    "#hll world hai\n",
    "st= \"hello world 123 hai\"\n",
    "i=0\n",
    "c=0\n",
    "res=\"\"\n",
    "while i<len(st):\n",
    "    ch=st[i]\n",
    "    if ch==\" \":\n",
    "        ch1=ch\n",
    "        c+=1\n",
    "        if c==1:\n",
    "            w=st[0:i+1]\n",
    "            for j in w:\n",
    "                if j not in \"aeiou\":\n",
    "                    res=res+j\n",
    "        if c==2 or c==4:\n",
    "            l=st[ch1+1:i+1]\n",
    "            for k in l:  \n",
    "                res=res+k  \n",
    "    i+=1\n",
    "print(res)"
   ]
  },
  {
   "cell_type": "code",
   "execution_count": null,
   "metadata": {},
   "outputs": [
    {
     "name": "stdout",
     "output_type": "stream",
     "text": [
      "12344\n",
      "(*$$#*)\n",
      "eoo\n",
      "hllwrld\n"
     ]
    }
   ],
   "source": [
    "#hllwrld\n",
    "#eoo\n",
    "#12344\n",
    "# (*$$hash*)\n",
    "st='(*12hello3$ $4#world4*)'\n",
    "res=''\n",
    "res1=''\n",
    "res2=''\n",
    "res3=''\n",
    "for i in st:\n",
    "    if i not in 'aeiou' and i>='0' and i<='9' :\n",
    "        res=res+i\n",
    "    if not (i>=\"a\" and i<=\"z\" or i>='0' and i<='9' or i==\" \"):\n",
    "        res1+=i\n",
    "    if i in 'aeiou':\n",
    "        res2+=i\n",
    "    if i>='a' and i<='z' and i not in 'aeiou':\n",
    "        res3+=i\n",
    "print(res)\n",
    "print(res1)\n",
    "print(res2)\n",
    "print(res3)\n",
    "\n"
   ]
  },
  {
   "cell_type": "code",
   "execution_count": null,
   "metadata": {},
   "outputs": [
    {
     "name": "stdout",
     "output_type": "stream",
     "text": [
      ")*#$$*(,44321,ooe,dlrwllh\n"
     ]
    }
   ],
   "source": [
    "#)*#$$*(\n",
    "#44321\n",
    "#ooe\n",
    "#dlrwllh\n",
    "st='(*12hello3$ $4#world4*)'\n",
    "res=''\n",
    "res1=''\n",
    "res2=''\n",
    "res3=''\n",
    "for i in st:\n",
    "    if i not in 'aeiou' and i>='0' and i<='9' :\n",
    "        res=res+i\n",
    "    if not (i>=\"a\" and i<=\"z\" or i>='0' and i<='9'or i==\" \"):\n",
    "        res1+=i\n",
    "    if i in 'aeiou':\n",
    "        res2+=i\n",
    "    if i>='a' and i<='z' and i not in 'aeiou':\n",
    "        res3+=i\n",
    "print(res1[::-1],res[::-1],res2[::-1],res3[::-1],sep=\",\")\n"
   ]
  },
  {
   "cell_type": "code",
   "execution_count": null,
   "metadata": {},
   "outputs": [
    {
     "name": "stdout",
     "output_type": "stream",
     "text": [
      "12344,(*$$#*),eoo,hllwrld\n"
     ]
    }
   ],
   "source": [
    "#hllwrld\n",
    "#eoo\n",
    "#12344\n",
    "# (*$$hash*)\n",
    "st='(*12hello3$ $4#world4*)'\n",
    "res=''\n",
    "res1=''\n",
    "res2=''\n",
    "res3=''\n",
    "for i in st:\n",
    "    if i not in 'aeiou' and i>='0' and i<='9' :\n",
    "        res=res+i\n",
    "    if not (i>=\"a\" and i<=\"z\" or i>='0' and i<='9' or i==\" \"):\n",
    "        res1+=i\n",
    "    if i in 'aeiou':\n",
    "        res2+=i\n",
    "    if i>='a' and i<='z' and i not in 'aeiou':\n",
    "        res3+=i\n",
    "print(res,res1,res2,res3,sep=\",\")\n",
    "\n"
   ]
  },
  {
   "cell_type": "code",
   "execution_count": null,
   "metadata": {},
   "outputs": [
    {
     "name": "stdout",
     "output_type": "stream",
     "text": [
      ")*#$$*(,44321,eoo,hllwrld\n"
     ]
    }
   ],
   "source": [
    "#130\n",
    "#)*#$$*(\n",
    "#44321\n",
    "#ooe\n",
    "#dlrwllh\n",
    "st='(*12hello3$ $4#world4*)'\n",
    "res=''\n",
    "res1=''\n",
    "res2=''\n",
    "res3=''\n",
    "for i in st:\n",
    "    if i not in 'aeiou' and i>='0' and i<='9' :\n",
    "        res=res+i\n",
    "    if not (i>=\"a\" and i<=\"z\" or i>='0' and i<='9'or i==\" \"):\n",
    "        res1+=i\n",
    "    if i in 'aeiou':\n",
    "        res2+=i\n",
    "    if i>='a' and i<='z' and i not in 'aeiou':\n",
    "        res3+=i\n",
    "print(res1[::-1],res[::-1],res2,res3,sep=\",\")\n",
    "\n",
    "\n"
   ]
  },
  {
   "cell_type": "code",
   "execution_count": null,
   "metadata": {},
   "outputs": [
    {
     "name": "stdout",
     "output_type": "stream",
     "text": [
      ")*#$$*(,44321,ooe,dlrwllh\n"
     ]
    }
   ],
   "source": [
    "#131#)*#$$*(\n",
    "#44321\n",
    "#ooe\n",
    "#dlrwllh\n",
    "st='(*12hello3$ $4#world4*)'\n",
    "res=''\n",
    "res1=''\n",
    "res2=''\n",
    "res3=''\n",
    "for i in st:\n",
    "    if i not in 'aeiou' and i>='0' and i<='9' :\n",
    "        res=res+i\n",
    "    if not (i>=\"a\" and i<=\"z\" or i>='0' and i<='9'or i==\" \"):\n",
    "        res1+=i\n",
    "    if i in 'aeiou':\n",
    "        res2+=i\n",
    "    if i>='a' and i<='z' and i not in 'aeiou':\n",
    "        res3+=i\n",
    "print(res1[::-1],res[::-1],res2[::-1],res3[::-1],sep=\",\")\n"
   ]
  },
  {
   "cell_type": "code",
   "execution_count": null,
   "metadata": {},
   "outputs": [
    {
     "name": "stdout",
     "output_type": "stream",
     "text": [
      "dlrwllh,)*#$$*(,ooe,44321\n"
     ]
    }
   ],
   "source": [
    "#132\n",
    "#)*#$$*(\n",
    "#44321\n",
    "#ooe\n",
    "#dlrwllh\n",
    "st='(*12hello3$ $4#world4*)'\n",
    "res=''\n",
    "res1=''\n",
    "res2=''\n",
    "res3=''\n",
    "for i in st:\n",
    "    if i not in 'aeiou' and i>='0' and i<='9' :\n",
    "        res=res+i\n",
    "    if not (i>=\"a\" and i<=\"z\" or i>='0' and i<='9'or i==\" \"):\n",
    "        res1+=i\n",
    "    if i in 'aeiou':\n",
    "        res2+=i\n",
    "    if i>='a' and i<='z' and i not in 'aeiou':\n",
    "        res3+=i\n",
    "print(res3[::-1],res1[::-1],res2[::-1],res[::-1],sep=\",\")\n"
   ]
  },
  {
   "cell_type": "code",
   "execution_count": null,
   "metadata": {},
   "outputs": [
    {
     "name": "stdout",
     "output_type": "stream",
     "text": [
      "h$ll*w*rld\n"
     ]
    }
   ],
   "source": [
    "#133\n",
    "#h$ll*w*rld\n",
    "res=''\n",
    "st='HELLOWORLD'\n",
    "for i in st:\n",
    "    if i==\"E\":\n",
    "        i=\"$\"\n",
    "        res+=i\n",
    "    elif i==\"O\":\n",
    "        i=\"*\"\n",
    "        res+=i\n",
    "    elif i>='A' and i<=\"Z\":\n",
    "        j=ord(i)+32\n",
    "        res=res+chr(j)\n",
    "print(res)"
   ]
  },
  {
   "cell_type": "code",
   "execution_count": null,
   "metadata": {},
   "outputs": [
    {
     "name": "stdout",
     "output_type": "stream",
     "text": [
      "hllwrld21\n"
     ]
    }
   ],
   "source": [
    "#134\n",
    "#hllwrld21\n",
    "st='123HELLO WORLD456'\n",
    "j=''\n",
    "res=''\n",
    "for i in st:\n",
    "    if i>=\"1\" and i<=\"2\":\n",
    "        j=j+i\n",
    "    if i>=\"A\" and i<=\"Z\":\n",
    "        if i not in 'AEIOU':\n",
    "            k=ord(i)+32\n",
    "            res=res+chr(k)\n",
    "print(res+j[::-1])\n",
    "    "
   ]
  },
  {
   "cell_type": "code",
   "execution_count": null,
   "metadata": {},
   "outputs": [
    {
     "name": "stdout",
     "output_type": "stream",
     "text": [
      "123hEllO wOrld456\n"
     ]
    }
   ],
   "source": [
    "#135\n",
    "#123hEllO wOrld456\n",
    "st='123HELLO WORLD456'\n",
    "res=''\n",
    "for i in st:\n",
    "    if i>='0' and i<=\"9\":\n",
    "        res=res+i\n",
    "    if i>=\"A\" and i<=\"Z\":\n",
    "        if i in 'AEIOU':\n",
    "            res=res+i\n",
    "        else:\n",
    "            j=ord(i)+32\n",
    "            res=res+chr(j)\n",
    "    if i==\" \":\n",
    "        res=res+i\n",
    "\n",
    "print(res)\n",
    "\n"
   ]
  },
  {
   "cell_type": "code",
   "execution_count": null,
   "metadata": {},
   "outputs": [
    {
     "name": "stdout",
     "output_type": "stream",
     "text": [
      "321321HeLLoWoRLD654654\n"
     ]
    }
   ],
   "source": [
    "#136\n",
    "#321hEllO wOrld654\n",
    "st='123HELLO WORLD456'\n",
    "res=''\n",
    "for i in st:\n",
    "    if i>=\"0\" and i<=\"9\":\n",
    "        if i>='1' and i<=\"3\":\n",
    "            k=k+i\n",
    "        if i>=\"4\" and i<=\"6\":\n",
    "            l=l+i\n",
    "    if i>='A' and i<='Z':\n",
    "        if i in 'AEIOU':\n",
    "            ch=ord(i)+32\n",
    "            res=res+chr(ch)\n",
    "        else:\n",
    "            res=res+i\n",
    "print(k[::-1]+res+l[::-1])   \n"
   ]
  },
  {
   "cell_type": "code",
   "execution_count": null,
   "metadata": {},
   "outputs": [
    {
     "name": "stdout",
     "output_type": "stream",
     "text": [
      "321*E**O*O***654\n"
     ]
    }
   ],
   "source": [
    "#137\n",
    "#321*E**O *O***654\n",
    "st='123HELLO WORLD456'\n",
    "res=''\n",
    "k=''\n",
    "l=''\n",
    "for i in st:\n",
    "    if i>=\"A\" and i<=\"Z\":\n",
    "        if i not in \"AEIOU\":\n",
    "            i=\"*\"\n",
    "            res=res+i\n",
    "        if i in 'AEIOU':\n",
    "            res=res+i\n",
    "    if i>=\"0\" and i<=\"9\":\n",
    "        if i>='1' and i<=\"3\":\n",
    "            k=k+i\n",
    "        if i>=\"4\" and i<=\"6\":\n",
    "            l=l+i\n",
    "print(k[::-1]+res+l[::-1])\n"
   ]
  },
  {
   "cell_type": "code",
   "execution_count": null,
   "metadata": {},
   "outputs": [
    {
     "name": "stdout",
     "output_type": "stream",
     "text": [
      "123*E**O *O***456\n"
     ]
    }
   ],
   "source": [
    "#138\n",
    "#123*E**O *O***456\n",
    "st='123HELLO WORLD456'\n",
    "res=''\n",
    "k=''\n",
    "l=''\n",
    "for i in st:\n",
    "    if i>=\"A\" and i<=\"Z\":\n",
    "        if i not in \"AEIOU\":\n",
    "            i=\"*\"\n",
    "            res=res+i\n",
    "        if i in 'AEIOU':\n",
    "            res=res+i\n",
    "    if i>=\"0\" and i<=\"9\":\n",
    "        if i>='1' and i<=\"3\":\n",
    "            k=k+i\n",
    "        if i>=\"4\" and i<=\"6\":\n",
    "            l=l+i\n",
    "    if i==\" \":\n",
    "        res=res+i\n",
    "print(k+res+l)\n"
   ]
  },
  {
   "cell_type": "code",
   "execution_count": null,
   "metadata": {},
   "outputs": [
    {
     "name": "stdout",
     "output_type": "stream",
     "text": [
      "h$ll*w*rld\n"
     ]
    }
   ],
   "source": [
    "#139\n",
    "#h$ll*w*rld\n",
    "st='HELLOWORLD'\n",
    "res=''\n",
    "for i in st:\n",
    "    if i not in \"AEIOU\":\n",
    "        j=ord(i)+32\n",
    "        res=res+chr(j)\n",
    "    else:\n",
    "        if i=='E':\n",
    "            i='$'\n",
    "            res=res+i\n",
    "        if i=='O':\n",
    "            i='*'\n",
    "            res=res+i\n",
    "print(res)\n"
   ]
  },
  {
   "cell_type": "code",
   "execution_count": null,
   "metadata": {},
   "outputs": [
    {
     "name": "stdout",
     "output_type": "stream",
     "text": [
      "axbycz\n"
     ]
    }
   ],
   "source": [
    "#140\n",
    "st='abc'\n",
    "st1='xyz'\n",
    "res=''\n",
    "i=0\n",
    "while i<len(st):\n",
    "    res=res+st[i]+st1[i]\n",
    "    i+=1\n",
    "print(res)\n",
    "    "
   ]
  },
  {
   "cell_type": "code",
   "execution_count": null,
   "metadata": {},
   "outputs": [
    {
     "name": "stdout",
     "output_type": "stream",
     "text": [
      "axbyczw\n"
     ]
    }
   ],
   "source": [
    "#141\n",
    "st='abc'\n",
    "st1='xyzw'\n",
    "res=''\n",
    "i=0 \n",
    "while i<len(st1)-1:\n",
    "    res=res+st[i]+st1[i]\n",
    "    i+=1\n",
    "print(res+st1[i:])"
   ]
  },
  {
   "cell_type": "code",
   "execution_count": null,
   "metadata": {},
   "outputs": [
    {
     "name": "stdout",
     "output_type": "stream",
     "text": [
      "axbyczd\n"
     ]
    }
   ],
   "source": [
    "#142\n",
    "st='abcd'\n",
    "st1='xyz'\n",
    "res=''\n",
    "i=0 \n",
    "while i<len(st)-1:\n",
    "    res=res+st[i]+st1[i]\n",
    "    i+=1\n",
    "print(res+st[i:])"
   ]
  },
  {
   "cell_type": "code",
   "execution_count": null,
   "metadata": {},
   "outputs": [
    {
     "name": "stdout",
     "output_type": "stream",
     "text": [
      "axbyczdwop\n"
     ]
    }
   ],
   "source": [
    "#143\n",
    "st='abcd'\n",
    "st1='xyzwop'\n",
    "res=''\n",
    "i=0 \n",
    "j=0\n",
    "while i<len(st1) and j<len(st):\n",
    "    res=res+st[i]+st1[i]\n",
    "    i+=1\n",
    "    j+=1\n",
    "\n",
    "print(res+st1[i:])"
   ]
  },
  {
   "cell_type": "code",
   "execution_count": null,
   "metadata": {},
   "outputs": [
    {
     "name": "stdout",
     "output_type": "stream",
     "text": [
      "a1b2c\n"
     ]
    }
   ],
   "source": [
    "#145\n",
    "st=\"abc12\"\n",
    "res=\"\"\n",
    "k=''\n",
    "u=''\n",
    "j=0\n",
    "for i in st:\n",
    "    if i>=\"a\" and i<=\"z\":\n",
    "        k=k+i\n",
    "    if i>='0' and i<='9':\n",
    "        u=u+i\n",
    "while j<len(k)-1:\n",
    "    res=res+k[j]+u[j]\n",
    "    j+=1\n",
    "print(res+k[j:])\n",
    "\n"
   ]
  },
  {
   "cell_type": "code",
   "execution_count": null,
   "metadata": {},
   "outputs": [
    {
     "name": "stdout",
     "output_type": "stream",
     "text": [
      "a1b2c34\n"
     ]
    }
   ],
   "source": [
    "#146\n",
    "st=\"abc1234\"\n",
    "res=\"\"\n",
    "k=''\n",
    "u=''\n",
    "j=0\n",
    "for i in st:\n",
    "    if i>=\"a\" and i<=\"z\":\n",
    "        k=k+i\n",
    "    if i>='0' and i<='9':\n",
    "        u=u+i\n",
    "while j<len(u)-1:\n",
    "    res=res+k[j]+u[j]\n",
    "    j+=1\n",
    "print(res+u[j:])"
   ]
  },
  {
   "cell_type": "code",
   "execution_count": null,
   "metadata": {},
   "outputs": [
    {
     "name": "stdout",
     "output_type": "stream",
     "text": [
      "a1b2c34\n"
     ]
    }
   ],
   "source": [
    "#147\n",
    "st=\"1a2bc34\"\n",
    "res=\"\"\n",
    "k=''\n",
    "u=''\n",
    "j=0\n",
    "for i in st:\n",
    "    if i>=\"a\" and i<=\"z\":\n",
    "        k=k+i\n",
    "    if i>='0' and i<='9':\n",
    "        u=u+i\n",
    "while j<len(u)-1:\n",
    "    res=res+k[j]+u[j]\n",
    "    j+=1\n",
    "print(res+u[j:])"
   ]
  },
  {
   "cell_type": "code",
   "execution_count": null,
   "metadata": {},
   "outputs": [
    {
     "name": "stdout",
     "output_type": "stream",
     "text": [
      "badcfeg\n"
     ]
    }
   ],
   "source": [
    "#155\n",
    "#abcdefg\n",
    "#badcfeg\n",
    "res=''\n",
    "st='abcdefg'\n",
    "for i in range(0,len(st)-1,2):\n",
    "    ch=st[i]\n",
    "    ch1=st[i+1]\n",
    "    res+=ch1+ch\n",
    "if len(st)%2==1:\n",
    "    res+=st[-1]\n",
    "print(res)\n",
    "\n"
   ]
  },
  {
   "cell_type": "code",
   "execution_count": 27,
   "metadata": {},
   "outputs": [
    {
     "name": "stdout",
     "output_type": "stream",
     "text": [
      "3\n"
     ]
    }
   ],
   "source": [
    "#148\n",
    "c=0\n",
    "st='abcdnmpotkl12yzabcd5'\n",
    "for i in st:\n",
    "    if i>'0' and i<'9':\n",
    "        c+=1\n",
    "print(3)\n"
   ]
  },
  {
   "cell_type": "code",
   "execution_count": 30,
   "metadata": {},
   "outputs": [
    {
     "name": "stdout",
     "output_type": "stream",
     "text": [
      "HA1I2I3 HE4LLO5\n"
     ]
    }
   ],
   "source": [
    "#149\n",
    "st='HAII HELLO'\n",
    "res=''\n",
    "c=0\n",
    "for i in st:\n",
    "    if i not in 'AEIOU':\n",
    "        res=res+i\n",
    "    else:\n",
    "        c+=1\n",
    "        res=res+i+str(c)\n",
    "print(res)\n",
    "        "
   ]
  },
  {
   "cell_type": "code",
   "execution_count": 38,
   "metadata": {},
   "outputs": [
    {
     "name": "stdout",
     "output_type": "stream",
     "text": [
      "H1AIIH2EL3L4O\n"
     ]
    }
   ],
   "source": [
    "#150\n",
    "st='HAII HELLO'\n",
    "res=''\n",
    "c=0\n",
    "for i in st:\n",
    "    if i==\" \":\n",
    "        pass\n",
    "    elif i not in 'AEIOU':\n",
    "        c+=1\n",
    "        res=res+i+str(c)\n",
    "    else:\n",
    "        res=res+i\n",
    "print(res)\n",
    "        "
   ]
  },
  {
   "cell_type": "code",
   "execution_count": 26,
   "metadata": {},
   "outputs": [
    {
     "name": "stdout",
     "output_type": "stream",
     "text": [
      "['hii hello']\n"
     ]
    }
   ],
   "source": [
    "#155\n",
    "st='hii hello'\n",
    "j=0\n",
    "i=''\n",
    "w=''\n",
    "k=''\n",
    "l=[]\n",
    "for i in st:\n",
    "    if i!=\" \":\n",
    "        w=w+i\n",
    "        l=[w]\n",
    "    if i==\" \":\n",
    "        w=w+i\n",
    "        l=[w]\n",
    "\n",
    "print(l)\n"
   ]
  },
  {
   "cell_type": "code",
   "execution_count": 33,
   "metadata": {},
   "outputs": [
    {
     "name": "stdout",
     "output_type": "stream",
     "text": [
      "['hii', 'hello', 'fu', 'dd']\n"
     ]
    }
   ],
   "source": [
    "st = 'hii hello fd\n",
    "d'\n",
    "w = ''\n",
    "k = ''\n",
    "l = []\n",
    "for i in st:\n",
    "    if i != \" \":\n",
    "        w = w + i\n",
    "    else:\n",
    "        l = l + [w] \n",
    "        w = ''\n",
    "if w:\n",
    "    l = l + [w]\n",
    "print(l)\n"
   ]
  }
 ],
 "metadata": {
  "kernelspec": {
   "display_name": "Python 3",
   "language": "python",
   "name": "python3"
  },
  "language_info": {
   "codemirror_mode": {
    "name": "ipython",
    "version": 3
   },
   "file_extension": ".py",
   "mimetype": "text/x-python",
   "name": "python",
   "nbconvert_exporter": "python",
   "pygments_lexer": "ipython3",
   "version": "3.9.0"
  }
 },
 "nbformat": 4,
 "nbformat_minor": 2
}
