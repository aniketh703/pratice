{
 "cells": [
  {
   "cell_type": "code",
   "execution_count": 3,
   "metadata": {},
   "outputs": [
    {
     "name": "stdout",
     "output_type": "stream",
     "text": [
      "greater\n"
     ]
    }
   ],
   "source": [
    "num=11\n",
    "if num>10:\n",
    "    print(\"greater\")\n",
    "else:\n",
    "    print(\"not greater\")"
   ]
  },
  {
   "cell_type": "code",
   "execution_count": 4,
   "metadata": {},
   "outputs": [
    {
     "name": "stdout",
     "output_type": "stream",
     "text": [
      "is 15\n"
     ]
    }
   ],
   "source": [
    "num=15\n",
    "if num==15:\n",
    "    print(\"is 15\")\n",
    "else:\n",
    "    print(\"not 15\")"
   ]
  },
  {
   "cell_type": "code",
   "execution_count": 5,
   "metadata": {},
   "outputs": [
    {
     "name": "stdout",
     "output_type": "stream",
     "text": [
      "divisible by 4\n"
     ]
    }
   ],
   "source": [
    "num=16\n",
    "if num%4==0:\n",
    "    print(\"divisible by 4\")\n",
    "else:\n",
    "    print(\"not divisible by 4\")"
   ]
  },
  {
   "cell_type": "code",
   "execution_count": 6,
   "metadata": {},
   "outputs": [
    {
     "name": "stdout",
     "output_type": "stream",
     "text": [
      "66\n"
     ]
    }
   ],
   "source": [
    "num=22\n",
    "if num>=21 and num<=35 and num%2==0:\n",
    "    print(num*3)\n",
    "else:\n",
    "    print(num-20)"
   ]
  },
  {
   "cell_type": "code",
   "execution_count": 7,
   "metadata": {},
   "outputs": [
    {
     "name": "stdout",
     "output_type": "stream",
     "text": [
      "not alphabet\n"
     ]
    }
   ],
   "source": [
    "ch=\"A\"\n",
    "if ch>=\"A\" and ch<=\"Z\" and ch>=\"a\" and ch<=\"z\":\n",
    "    print(\"alphabet\")\n",
    "else:\n",
    "    print(\"not alphabet\")"
   ]
  },
  {
   "cell_type": "code",
   "execution_count": 8,
   "metadata": {},
   "outputs": [
    {
     "name": "stdout",
     "output_type": "stream",
     "text": [
      "digit\n"
     ]
    }
   ],
   "source": [
    "ch=\"8\"\n",
    "if ch>=\"0\" and ch<=\"9\":\n",
    "    print(\"digit\")\n",
    "else:\n",
    "    print(\"not digit\")"
   ]
  },
  {
   "cell_type": "code",
   "execution_count": 1,
   "metadata": {},
   "outputs": [
    {
     "name": "stdout",
     "output_type": "stream",
     "text": [
      "Symbol\n"
     ]
    }
   ],
   "source": [
    "ch=\"%\"\n",
    "if not(ch>=\"a\" and ch<=\"z\" and ch>=\"A\" and ch<=\"Z\" and ch>=\"0\" and ch<=\"9\"):\n",
    "    print(\"Symbol\")\n",
    "else:\n",
    "    print(\"not Symbol\")"
   ]
  },
  {
   "cell_type": "code",
   "execution_count": 2,
   "metadata": {},
   "outputs": [
    {
     "name": "stdout",
     "output_type": "stream",
     "text": [
      "65\n"
     ]
    }
   ],
   "source": [
    "ch=\"A\"\n",
    "if (ch>=\"a\" and ch<=\"z\") or (ch>=\"A\" and ch<=\"Z\"):\n",
    "    print(ord(ch))\n",
    "else:\n",
    "    print(ch)"
   ]
  },
  {
   "cell_type": "code",
   "execution_count": 3,
   "metadata": {},
   "outputs": [
    {
     "name": "stdout",
     "output_type": "stream",
     "text": [
      "Happy diwali\n"
     ]
    }
   ],
   "source": [
    "ch=\"%\"\n",
    "if not(ch>=\"a\" and ch<=\"z\" and ch>=\"A\" and ch<=\"Z\" and ch>=\"0\" and ch<=\"9\" and ch>70):\n",
    "    print(\"Happy diwali\")\n",
    "else:\n",
    "    print(\"Come on Wednesday\")"
   ]
  },
  {
   "cell_type": "code",
   "execution_count": 6,
   "metadata": {},
   "outputs": [
    {
     "name": "stdout",
     "output_type": "stream",
     "text": [
      "vowel\n"
     ]
    }
   ],
   "source": [
    "ch=\"a\"\n",
    "if ch in \"AEIOUaeiou\":\n",
    "    print(\"vowel\")\n",
    "else:\n",
    "    print(\"not vowel\")"
   ]
  },
  {
   "cell_type": "code",
   "execution_count": 7,
   "metadata": {},
   "outputs": [
    {
     "name": "stdout",
     "output_type": "stream",
     "text": [
      "consonent\n"
     ]
    }
   ],
   "source": [
    "ch=\"d\"\n",
    "if ch not in \"AEIOUaeiou\":\n",
    "    print(\"consonent\")\n",
    "else:\n",
    "    print(\"not consonent\")"
   ]
  },
  {
   "cell_type": "code",
   "execution_count": 9,
   "metadata": {},
   "outputs": [
    {
     "name": "stdout",
     "output_type": "stream",
     "text": [
      "even\n"
     ]
    }
   ],
   "source": [
    "a=0\n",
    "if a%2==0:\n",
    "    print(\"even\")\n",
    "else:\n",
    "    print(\"odd\")"
   ]
  },
  {
   "cell_type": "code",
   "execution_count": null,
   "metadata": {},
   "outputs": [],
   "source": [
    "ch=\"E\"\n",
    "if ch>=\"A\" and ch<=\"Z\":\n",
    "    print(\"uppercase\")\n",
    "else:\n",
    "    print(\"lowercase\")"
   ]
  },
  {
   "cell_type": "code",
   "execution_count": null,
   "metadata": {},
   "outputs": [],
   "source": [
    "ch=\"9\"\n",
    "if ch>=\"0\" and ch<=\"9\":\n",
    "    print(\"digit\")\n",
    "else:\n",
    "    print(\"not digit\")"
   ]
  },
  {
   "cell_type": "code",
   "execution_count": null,
   "metadata": {},
   "outputs": [],
   "source": [
    "ch=\"A\"\n",
    "if ch>=\"a\" and ch<=\"z\":\n",
    "    print(\"lower\")\n",
    "if ch>=\"A\" and ch<=\"Z\":\n",
    "    print(\"upper\")\n",
    "if ch>=\"0\" and ch<=\"9\":\n",
    "    print(\"digit\") \n",
    "else:\n",
    "    print(\"symbol\")"
   ]
  },
  {
   "cell_type": "code",
   "execution_count": 1,
   "metadata": {},
   "outputs": [
    {
     "name": "stdout",
     "output_type": "stream",
     "text": [
      "divisible\n"
     ]
    }
   ],
   "source": [
    "num=6\n",
    "if num%2==0 and num%3==0:\n",
    "    print(\"divisible\")\n",
    "else:\n",
    "    print(\"not divisible by 3 and 2\")"
   ]
  }
 ],
 "metadata": {
  "kernelspec": {
   "display_name": "Python 3",
   "language": "python",
   "name": "python3"
  },
  "language_info": {
   "codemirror_mode": {
    "name": "ipython",
    "version": 3
   },
   "file_extension": ".py",
   "mimetype": "text/x-python",
   "name": "python",
   "nbconvert_exporter": "python",
   "pygments_lexer": "ipython3",
   "version": "3.9.0"
  }
 },
 "nbformat": 4,
 "nbformat_minor": 2
}
