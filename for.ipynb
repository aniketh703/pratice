{
 "cells": [
  {
   "cell_type": "code",
   "execution_count": 5,
   "metadata": {},
   "outputs": [
    {
     "name": "stdout",
     "output_type": "stream",
     "text": [
      "pall\n"
     ]
    }
   ],
   "source": [
    "#palindrome\n",
    "st=input()\n",
    "res=''\n",
    "res1=''\n",
    "for i in st:\n",
    "    res=res+i\n",
    "for j in st[::-1]:\n",
    "    res1=res1+j\n",
    "if res==res1:\n",
    "    print(\"pall\")\n",
    "else:\n",
    "    print(\"not pall\")"
   ]
  }
 ],
 "metadata": {
  "kernelspec": {
   "display_name": "Python 3",
   "language": "python",
   "name": "python3"
  },
  "language_info": {
   "codemirror_mode": {
    "name": "ipython",
    "version": 3
   },
   "file_extension": ".py",
   "mimetype": "text/x-python",
   "name": "python",
   "nbconvert_exporter": "python",
   "pygments_lexer": "ipython3",
   "version": "3.9.0"
  }
 },
 "nbformat": 4,
 "nbformat_minor": 2
}
